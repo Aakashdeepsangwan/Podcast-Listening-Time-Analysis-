{
 "cells": [
  {
   "cell_type": "code",
   "execution_count": 1,
   "id": "48d2b9ba",
   "metadata": {},
   "outputs": [],
   "source": [
    "import numpy as np\n",
    "import pandas as pd"
   ]
  },
  {
   "cell_type": "code",
   "execution_count": 2,
   "id": "9b0c4e9f",
   "metadata": {},
   "outputs": [],
   "source": [
    "test_data = pd.read_csv('test.csv')\n",
    "train_data = pd.read_csv('train.csv')\n",
    "submission_data = pd.read_csv('sample_submission.csv')"
   ]
  },
  {
   "cell_type": "code",
   "execution_count": 3,
   "id": "e1dbfbf3",
   "metadata": {},
   "outputs": [
    {
     "data": {
      "text/plain": [
       "((750000, 12), (250000, 11), (250000, 2))"
      ]
     },
     "execution_count": 3,
     "metadata": {},
     "output_type": "execute_result"
    }
   ],
   "source": [
    "train_data.shape, test_data.shape, submission_data.shape"
   ]
  },
  {
   "cell_type": "markdown",
   "id": "1ad555f2",
   "metadata": {},
   "source": [
    "Checking the train_data file for any null values"
   ]
  },
  {
   "cell_type": "code",
   "execution_count": 4,
   "id": "40bbc227",
   "metadata": {},
   "outputs": [
    {
     "data": {
      "application/vnd.microsoft.datawrangler.viewer.v0+json": {
       "columns": [
        {
         "name": "index",
         "rawType": "object",
         "type": "string"
        },
        {
         "name": "0",
         "rawType": "int64",
         "type": "integer"
        }
       ],
       "ref": "6a5755b4-1c4b-4e91-9eba-bf4039098303",
       "rows": [
        [
         "id",
         "0"
        ],
        [
         "Podcast_Name",
         "0"
        ],
        [
         "Episode_Title",
         "0"
        ],
        [
         "Episode_Length_minutes",
         "87093"
        ],
        [
         "Genre",
         "0"
        ],
        [
         "Host_Popularity_percentage",
         "0"
        ],
        [
         "Publication_Day",
         "0"
        ],
        [
         "Publication_Time",
         "0"
        ],
        [
         "Guest_Popularity_percentage",
         "146030"
        ],
        [
         "Number_of_Ads",
         "1"
        ],
        [
         "Episode_Sentiment",
         "0"
        ],
        [
         "Listening_Time_minutes",
         "0"
        ]
       ],
       "shape": {
        "columns": 1,
        "rows": 12
       }
      },
      "text/plain": [
       "id                                  0\n",
       "Podcast_Name                        0\n",
       "Episode_Title                       0\n",
       "Episode_Length_minutes          87093\n",
       "Genre                               0\n",
       "Host_Popularity_percentage          0\n",
       "Publication_Day                     0\n",
       "Publication_Time                    0\n",
       "Guest_Popularity_percentage    146030\n",
       "Number_of_Ads                       1\n",
       "Episode_Sentiment                   0\n",
       "Listening_Time_minutes              0\n",
       "dtype: int64"
      ]
     },
     "execution_count": 4,
     "metadata": {},
     "output_type": "execute_result"
    }
   ],
   "source": [
    "train_data.isnull().sum()\n"
   ]
  },
  {
   "cell_type": "code",
   "execution_count": 5,
   "id": "a632d3ab",
   "metadata": {},
   "outputs": [
    {
     "data": {
      "application/vnd.microsoft.datawrangler.viewer.v0+json": {
       "columns": [
        {
         "name": "index",
         "rawType": "object",
         "type": "string"
        },
        {
         "name": "0",
         "rawType": "object",
         "type": "string"
        }
       ],
       "ref": "1a5bf0b1-47f4-4d50-98c4-53bd88db22ad",
       "rows": [
        [
         "id",
         "int64"
        ],
        [
         "Podcast_Name",
         "object"
        ],
        [
         "Episode_Title",
         "object"
        ],
        [
         "Episode_Length_minutes",
         "float64"
        ],
        [
         "Genre",
         "object"
        ],
        [
         "Host_Popularity_percentage",
         "float64"
        ],
        [
         "Publication_Day",
         "object"
        ],
        [
         "Publication_Time",
         "object"
        ],
        [
         "Guest_Popularity_percentage",
         "float64"
        ],
        [
         "Number_of_Ads",
         "float64"
        ],
        [
         "Episode_Sentiment",
         "object"
        ],
        [
         "Listening_Time_minutes",
         "float64"
        ]
       ],
       "shape": {
        "columns": 1,
        "rows": 12
       }
      },
      "text/plain": [
       "id                               int64\n",
       "Podcast_Name                    object\n",
       "Episode_Title                   object\n",
       "Episode_Length_minutes         float64\n",
       "Genre                           object\n",
       "Host_Popularity_percentage     float64\n",
       "Publication_Day                 object\n",
       "Publication_Time                object\n",
       "Guest_Popularity_percentage    float64\n",
       "Number_of_Ads                  float64\n",
       "Episode_Sentiment               object\n",
       "Listening_Time_minutes         float64\n",
       "dtype: object"
      ]
     },
     "execution_count": 5,
     "metadata": {},
     "output_type": "execute_result"
    }
   ],
   "source": [
    "train_data.dtypes"
   ]
  },
  {
   "cell_type": "code",
   "execution_count": 6,
   "id": "0c3f5fa7",
   "metadata": {},
   "outputs": [],
   "source": [
    "train_data['Episode_Length_minutes']= train_data['Episode_Length_minutes'].astype(float)\n",
    "test_data['Episode_Length_minutes']= test_data['Episode_Length_minutes'].astype(float)\n"
   ]
  },
  {
   "cell_type": "markdown",
   "id": "007a3318",
   "metadata": {},
   "source": [
    "Episode_Title column, it's data-type is Object\n",
    "> Can be converted to int dtypes as Episode is not nessary\n",
    "> Removing the Episode from Episode_Title\n",
    "> Only Keeping int's "
   ]
  },
  {
   "cell_type": "code",
   "execution_count": null,
   "id": "38a51ca6",
   "metadata": {},
   "outputs": [],
   "source": []
  },
  {
   "cell_type": "code",
   "execution_count": 7,
   "id": "14981d72",
   "metadata": {},
   "outputs": [],
   "source": [
    "train_data[\"Episode_Title_int\"] = train_data[\"Episode_Title\"].str.strip(\"Episode\").astype(int)"
   ]
  },
  {
   "cell_type": "markdown",
   "id": "20373350",
   "metadata": {},
   "source": [
    "> Removing the column Episode Title and ID -> as it is not required now \n",
    "> axis=1 : Horizontal, Operates across the column"
   ]
  },
  {
   "cell_type": "code",
   "execution_count": 8,
   "id": "79ce2c8d",
   "metadata": {},
   "outputs": [],
   "source": [
    "train_data.drop(['Episode_Title','id'],axis=1, inplace=True)"
   ]
  },
  {
   "cell_type": "code",
   "execution_count": 9,
   "id": "7ff945a4",
   "metadata": {},
   "outputs": [
    {
     "data": {
      "application/vnd.microsoft.datawrangler.viewer.v0+json": {
       "columns": [
        {
         "name": "index",
         "rawType": "int64",
         "type": "integer"
        },
        {
         "name": "Podcast_Name",
         "rawType": "object",
         "type": "string"
        },
        {
         "name": "Episode_Length_minutes",
         "rawType": "float64",
         "type": "float"
        },
        {
         "name": "Genre",
         "rawType": "object",
         "type": "string"
        },
        {
         "name": "Host_Popularity_percentage",
         "rawType": "float64",
         "type": "float"
        },
        {
         "name": "Publication_Day",
         "rawType": "object",
         "type": "string"
        },
        {
         "name": "Publication_Time",
         "rawType": "object",
         "type": "string"
        },
        {
         "name": "Guest_Popularity_percentage",
         "rawType": "float64",
         "type": "float"
        },
        {
         "name": "Number_of_Ads",
         "rawType": "float64",
         "type": "float"
        },
        {
         "name": "Episode_Sentiment",
         "rawType": "object",
         "type": "string"
        },
        {
         "name": "Listening_Time_minutes",
         "rawType": "float64",
         "type": "float"
        },
        {
         "name": "Episode_Title_int",
         "rawType": "int64",
         "type": "integer"
        }
       ],
       "ref": "33a5de6d-3027-458c-8312-35e5ccfc44b9",
       "rows": [
        [
         "0",
         "Mystery Matters",
         null,
         "True Crime",
         "74.81",
         "Thursday",
         "Night",
         null,
         "0.0",
         "Positive",
         "31.41998",
         "98"
        ],
        [
         "1",
         "Joke Junction",
         "119.8",
         "Comedy",
         "66.95",
         "Saturday",
         "Afternoon",
         "75.95",
         "2.0",
         "Negative",
         "88.01241",
         "26"
        ],
        [
         "2",
         "Study Sessions",
         "73.9",
         "Education",
         "69.97",
         "Tuesday",
         "Evening",
         "8.97",
         "0.0",
         "Negative",
         "44.92531",
         "16"
        ],
        [
         "3",
         "Digital Digest",
         "67.17",
         "Technology",
         "57.22",
         "Monday",
         "Morning",
         "78.7",
         "2.0",
         "Positive",
         "46.27824",
         "45"
        ],
        [
         "4",
         "Mind & Body",
         "110.51",
         "Health",
         "80.07",
         "Monday",
         "Afternoon",
         "58.68",
         "3.0",
         "Neutral",
         "75.61031",
         "86"
        ],
        [
         "5",
         "Fitness First",
         "26.54",
         "Health",
         "48.96",
         "Saturday",
         "Afternoon",
         null,
         "3.0",
         "Positive",
         "22.77047",
         "19"
        ],
        [
         "6",
         "Criminal Minds",
         "69.83",
         "True Crime",
         "35.82",
         "Sunday",
         "Night",
         "39.02",
         "0.0",
         "Neutral",
         "64.75024",
         "47"
        ],
        [
         "7",
         "News Roundup",
         "48.52",
         "News",
         "44.99",
         "Thursday",
         "Night",
         "20.12",
         "0.0",
         "Positive",
         "22.37517",
         "44"
        ],
        [
         "8",
         "Daily Digest",
         "105.87",
         "News",
         "69.81",
         "Monday",
         "Evening",
         null,
         "2.0",
         "Neutral",
         "68.00124",
         "32"
        ],
        [
         "9",
         "Music Matters",
         null,
         "Music",
         "82.18",
         "Thursday",
         "Night",
         "59.72",
         "3.0",
         "Neutral",
         "45.94761",
         "81"
        ],
        [
         "10",
         "Sports Central",
         "106.41",
         "Sports",
         "84.29",
         "Thursday",
         "Evening",
         "32.84",
         "3.0",
         "Positive",
         "74.08016",
         "66"
        ],
        [
         "11",
         "Melody Mix",
         "107.26",
         "Music",
         "78.12",
         "Monday",
         "Evening",
         "78.12",
         "1.0",
         "Positive",
         "103.56",
         "62"
        ],
        [
         "12",
         "Game Day",
         "82.14",
         "Sports",
         "86.65",
         "Saturday",
         "Morning",
         "35.19",
         "1.0",
         "Neutral",
         "48.26043",
         "76"
        ],
        [
         "13",
         "Gadget Geek",
         "92.5",
         "Technology",
         "68.42",
         "Wednesday",
         "Afternoon",
         "87.87",
         "0.0",
         "Neutral",
         "50.93591",
         "37"
        ],
        [
         "14",
         "Global News",
         "81.45",
         "News",
         "89.62",
         "Saturday",
         "Evening",
         "28.64",
         "1.0",
         "Negative",
         "41.93243",
         "20"
        ],
        [
         "15",
         "Tech Talks",
         "68.33",
         "Technology",
         "75.33",
         "Thursday",
         "Evening",
         "92.9",
         "0.0",
         "Neutral",
         "63.97718",
         "47"
        ],
        [
         "16",
         "Study Sessions",
         "78.47",
         "Education",
         "48.84",
         "Sunday",
         "Afternoon",
         null,
         "2.0",
         "Neutral",
         "42.89441",
         "82"
        ],
        [
         "17",
         "Sport Spot",
         "95.45",
         "Sports",
         "92.19",
         "Thursday",
         "Afternoon",
         "70.29",
         "2.0",
         "Neutral",
         "79.67749",
         "32"
        ],
        [
         "18",
         "Digital Digest",
         "7.34",
         "Technology",
         "20.81",
         "Sunday",
         "Night",
         "83.06",
         "3.0",
         "Positive",
         "0.75783",
         "72"
        ],
        [
         "19",
         "Sport Spot",
         "51.6",
         "Sports",
         "61.6",
         "Wednesday",
         "Evening",
         "90.41",
         "1.0",
         "Positive",
         "14.96035",
         "61"
        ],
        [
         "20",
         "Funny Folks",
         "54.67",
         "Comedy",
         "45.47",
         "Wednesday",
         "Afternoon",
         null,
         "2.0",
         "Neutral",
         "29.2275",
         "100"
        ],
        [
         "21",
         "Sports Weekly",
         "67.05",
         "Sports",
         "58.77",
         "Saturday",
         "Night",
         null,
         "0.0",
         "Neutral",
         "56.87222",
         "100"
        ],
        [
         "22",
         "Business Briefs",
         "66.22",
         "Business",
         "62.81",
         "Wednesday",
         "Night",
         "88.86",
         "0.0",
         "Neutral",
         "47.60142",
         "54"
        ],
        [
         "23",
         "Digital Digest",
         "97.25",
         "Technology",
         "36.1",
         "Tuesday",
         "Afternoon",
         "80.43",
         "0.0",
         "Neutral",
         "89.71709",
         "17"
        ],
        [
         "24",
         "Sports Central",
         "79.5",
         "Sports",
         "59.96",
         "Monday",
         "Evening",
         "15.72",
         "0.0",
         "Neutral",
         "54.52628",
         "36"
        ],
        [
         "25",
         "Tech Trends",
         "105.35",
         "Technology",
         "55.03",
         "Wednesday",
         "Afternoon",
         "76.12",
         "1.0",
         "Neutral",
         "99.15797",
         "97"
        ],
        [
         "26",
         "Sports Weekly",
         "110.7",
         "Sports",
         "98.58",
         "Saturday",
         "Night",
         null,
         "2.0",
         "Positive",
         "93.02372",
         "27"
        ],
        [
         "27",
         "Innovators",
         "113.68",
         "Technology",
         "38.49",
         "Wednesday",
         "Afternoon",
         "28.53",
         "0.0",
         "Positive",
         "112.68",
         "31"
        ],
        [
         "28",
         "Melody Mix",
         "55.66",
         "Music",
         "98.62",
         "Tuesday",
         "Night",
         "56.84",
         "0.0",
         "Neutral",
         "25.47053",
         "88"
        ],
        [
         "29",
         "Health Hour",
         null,
         "Health",
         "45.97",
         "Saturday",
         "Evening",
         "15.43",
         "1.0",
         "Negative",
         "25.38384",
         "38"
        ],
        [
         "30",
         "Comedy Corner",
         "105.46",
         "Comedy",
         "34.65",
         "Tuesday",
         "Night",
         "62.55",
         "2.0",
         "Neutral",
         "76.78874",
         "26"
        ],
        [
         "31",
         "Global News",
         "118.15",
         "News",
         "86.22",
         "Friday",
         "Morning",
         "64.88",
         "2.0",
         "Neutral",
         "57.4838",
         "92"
        ],
        [
         "32",
         "Sound Waves",
         "117.88",
         "Music",
         "41.28",
         "Saturday",
         "Morning",
         null,
         "0.0",
         "Positive",
         "101.19214",
         "74"
        ],
        [
         "33",
         "Fitness First",
         "59.69",
         "Health",
         "91.79",
         "Saturday",
         "Night",
         "88.08",
         "1.0",
         "Negative",
         "53.46902",
         "72"
        ],
        [
         "34",
         "Study Sessions",
         "8.66",
         "Education",
         "49.75",
         "Friday",
         "Morning",
         null,
         "3.0",
         "Neutral",
         "6.67525",
         "30"
        ],
        [
         "35",
         "Sport Spot",
         "75.02",
         "Sports",
         "95.89",
         "Friday",
         "Night",
         "59.71",
         "0.0",
         "Positive",
         "40.33025",
         "63"
        ],
        [
         "36",
         "Business Briefs",
         "12.52",
         "Business",
         "61.95",
         "Wednesday",
         "Afternoon",
         "68.69",
         "2.0",
         "Neutral",
         "9.14796",
         "38"
        ],
        [
         "37",
         "Funny Folks",
         "5.83",
         "Comedy",
         "46.48",
         "Monday",
         "Evening",
         "31.22",
         "1.0",
         "Negative",
         "0.0",
         "82"
        ],
        [
         "38",
         "Music Matters",
         "86.84",
         "Music",
         "86.65",
         "Thursday",
         "Morning",
         "28.27",
         "1.0",
         "Neutral",
         "81.49839",
         "32"
        ],
        [
         "39",
         "Brain Boost",
         "39.04",
         "Education",
         "83.95",
         "Wednesday",
         "Night",
         "48.22",
         "0.0",
         "Positive",
         "34.71174",
         "67"
        ],
        [
         "40",
         "Sports Central",
         "69.66",
         "Sports",
         "57.32",
         "Thursday",
         "Evening",
         "61.32",
         "1.0",
         "Neutral",
         "50.05332",
         "77"
        ],
        [
         "41",
         "Game Day",
         "33.02",
         "Sports",
         "27.78",
         "Wednesday",
         "Morning",
         "91.13",
         "2.0",
         "Positive",
         "16.36",
         "4"
        ],
        [
         "42",
         "Innovators",
         "32.29",
         "Technology",
         "89.36",
         "Sunday",
         "Evening",
         "42.61",
         "3.0",
         "Neutral",
         "26.57501",
         "17"
        ],
        [
         "43",
         "Funny Folks",
         null,
         "Comedy",
         "33.02",
         "Saturday",
         "Afternoon",
         "64.7",
         "2.0",
         "Positive",
         "35.11072",
         "93"
        ],
        [
         "44",
         "Game Day",
         "111.15",
         "Sports",
         "53.98",
         "Saturday",
         "Evening",
         "34.96",
         "1.0",
         "Positive",
         "97.1637",
         "24"
        ],
        [
         "45",
         "Athlete's Arena",
         "11.68",
         "Sports",
         "39.19",
         "Saturday",
         "Morning",
         "34.51",
         "1.0",
         "Negative",
         "7.04845",
         "1"
        ],
        [
         "46",
         "Mind & Body",
         "92.81",
         "Health",
         "28.52",
         "Sunday",
         "Evening",
         "24.65",
         "0.0",
         "Positive",
         "53.58589",
         "2"
        ],
        [
         "47",
         "Wellness Wave",
         "33.23",
         "Health",
         "43.35",
         "Wednesday",
         "Night",
         "0.62",
         "1.0",
         "Neutral",
         "30.12822",
         "25"
        ],
        [
         "48",
         "Sports Weekly",
         "31.69",
         "Sports",
         "24.8",
         "Sunday",
         "Evening",
         "99.63",
         "1.0",
         "Positive",
         "24.12",
         "56"
        ],
        [
         "49",
         "Style Guide",
         null,
         "Lifestyle",
         "78.82",
         "Saturday",
         "Morning",
         null,
         "2.0",
         "Positive",
         "24.40379",
         "75"
        ]
       ],
       "shape": {
        "columns": 11,
        "rows": 750000
       }
      },
      "text/html": [
       "<div>\n",
       "<style scoped>\n",
       "    .dataframe tbody tr th:only-of-type {\n",
       "        vertical-align: middle;\n",
       "    }\n",
       "\n",
       "    .dataframe tbody tr th {\n",
       "        vertical-align: top;\n",
       "    }\n",
       "\n",
       "    .dataframe thead th {\n",
       "        text-align: right;\n",
       "    }\n",
       "</style>\n",
       "<table border=\"1\" class=\"dataframe\">\n",
       "  <thead>\n",
       "    <tr style=\"text-align: right;\">\n",
       "      <th></th>\n",
       "      <th>Podcast_Name</th>\n",
       "      <th>Episode_Length_minutes</th>\n",
       "      <th>Genre</th>\n",
       "      <th>Host_Popularity_percentage</th>\n",
       "      <th>Publication_Day</th>\n",
       "      <th>Publication_Time</th>\n",
       "      <th>Guest_Popularity_percentage</th>\n",
       "      <th>Number_of_Ads</th>\n",
       "      <th>Episode_Sentiment</th>\n",
       "      <th>Listening_Time_minutes</th>\n",
       "      <th>Episode_Title_int</th>\n",
       "    </tr>\n",
       "  </thead>\n",
       "  <tbody>\n",
       "    <tr>\n",
       "      <th>0</th>\n",
       "      <td>Mystery Matters</td>\n",
       "      <td>NaN</td>\n",
       "      <td>True Crime</td>\n",
       "      <td>74.81</td>\n",
       "      <td>Thursday</td>\n",
       "      <td>Night</td>\n",
       "      <td>NaN</td>\n",
       "      <td>0.0</td>\n",
       "      <td>Positive</td>\n",
       "      <td>31.41998</td>\n",
       "      <td>98</td>\n",
       "    </tr>\n",
       "    <tr>\n",
       "      <th>1</th>\n",
       "      <td>Joke Junction</td>\n",
       "      <td>119.80</td>\n",
       "      <td>Comedy</td>\n",
       "      <td>66.95</td>\n",
       "      <td>Saturday</td>\n",
       "      <td>Afternoon</td>\n",
       "      <td>75.95</td>\n",
       "      <td>2.0</td>\n",
       "      <td>Negative</td>\n",
       "      <td>88.01241</td>\n",
       "      <td>26</td>\n",
       "    </tr>\n",
       "    <tr>\n",
       "      <th>2</th>\n",
       "      <td>Study Sessions</td>\n",
       "      <td>73.90</td>\n",
       "      <td>Education</td>\n",
       "      <td>69.97</td>\n",
       "      <td>Tuesday</td>\n",
       "      <td>Evening</td>\n",
       "      <td>8.97</td>\n",
       "      <td>0.0</td>\n",
       "      <td>Negative</td>\n",
       "      <td>44.92531</td>\n",
       "      <td>16</td>\n",
       "    </tr>\n",
       "    <tr>\n",
       "      <th>3</th>\n",
       "      <td>Digital Digest</td>\n",
       "      <td>67.17</td>\n",
       "      <td>Technology</td>\n",
       "      <td>57.22</td>\n",
       "      <td>Monday</td>\n",
       "      <td>Morning</td>\n",
       "      <td>78.70</td>\n",
       "      <td>2.0</td>\n",
       "      <td>Positive</td>\n",
       "      <td>46.27824</td>\n",
       "      <td>45</td>\n",
       "    </tr>\n",
       "    <tr>\n",
       "      <th>4</th>\n",
       "      <td>Mind &amp; Body</td>\n",
       "      <td>110.51</td>\n",
       "      <td>Health</td>\n",
       "      <td>80.07</td>\n",
       "      <td>Monday</td>\n",
       "      <td>Afternoon</td>\n",
       "      <td>58.68</td>\n",
       "      <td>3.0</td>\n",
       "      <td>Neutral</td>\n",
       "      <td>75.61031</td>\n",
       "      <td>86</td>\n",
       "    </tr>\n",
       "    <tr>\n",
       "      <th>...</th>\n",
       "      <td>...</td>\n",
       "      <td>...</td>\n",
       "      <td>...</td>\n",
       "      <td>...</td>\n",
       "      <td>...</td>\n",
       "      <td>...</td>\n",
       "      <td>...</td>\n",
       "      <td>...</td>\n",
       "      <td>...</td>\n",
       "      <td>...</td>\n",
       "      <td>...</td>\n",
       "    </tr>\n",
       "    <tr>\n",
       "      <th>749995</th>\n",
       "      <td>Learning Lab</td>\n",
       "      <td>75.66</td>\n",
       "      <td>Education</td>\n",
       "      <td>69.36</td>\n",
       "      <td>Saturday</td>\n",
       "      <td>Morning</td>\n",
       "      <td>NaN</td>\n",
       "      <td>0.0</td>\n",
       "      <td>Negative</td>\n",
       "      <td>56.87058</td>\n",
       "      <td>25</td>\n",
       "    </tr>\n",
       "    <tr>\n",
       "      <th>749996</th>\n",
       "      <td>Business Briefs</td>\n",
       "      <td>75.75</td>\n",
       "      <td>Business</td>\n",
       "      <td>35.21</td>\n",
       "      <td>Saturday</td>\n",
       "      <td>Night</td>\n",
       "      <td>NaN</td>\n",
       "      <td>2.0</td>\n",
       "      <td>Neutral</td>\n",
       "      <td>45.46242</td>\n",
       "      <td>21</td>\n",
       "    </tr>\n",
       "    <tr>\n",
       "      <th>749997</th>\n",
       "      <td>Lifestyle Lounge</td>\n",
       "      <td>30.98</td>\n",
       "      <td>Lifestyle</td>\n",
       "      <td>78.58</td>\n",
       "      <td>Thursday</td>\n",
       "      <td>Morning</td>\n",
       "      <td>84.89</td>\n",
       "      <td>0.0</td>\n",
       "      <td>Negative</td>\n",
       "      <td>15.26000</td>\n",
       "      <td>51</td>\n",
       "    </tr>\n",
       "    <tr>\n",
       "      <th>749998</th>\n",
       "      <td>Style Guide</td>\n",
       "      <td>108.98</td>\n",
       "      <td>Lifestyle</td>\n",
       "      <td>45.39</td>\n",
       "      <td>Thursday</td>\n",
       "      <td>Morning</td>\n",
       "      <td>93.27</td>\n",
       "      <td>0.0</td>\n",
       "      <td>Negative</td>\n",
       "      <td>100.72939</td>\n",
       "      <td>47</td>\n",
       "    </tr>\n",
       "    <tr>\n",
       "      <th>749999</th>\n",
       "      <td>Sports Central</td>\n",
       "      <td>24.10</td>\n",
       "      <td>Sports</td>\n",
       "      <td>22.45</td>\n",
       "      <td>Saturday</td>\n",
       "      <td>Night</td>\n",
       "      <td>36.72</td>\n",
       "      <td>0.0</td>\n",
       "      <td>Neutral</td>\n",
       "      <td>11.94439</td>\n",
       "      <td>99</td>\n",
       "    </tr>\n",
       "  </tbody>\n",
       "</table>\n",
       "<p>750000 rows × 11 columns</p>\n",
       "</div>"
      ],
      "text/plain": [
       "            Podcast_Name  Episode_Length_minutes       Genre  \\\n",
       "0        Mystery Matters                     NaN  True Crime   \n",
       "1          Joke Junction                  119.80      Comedy   \n",
       "2         Study Sessions                   73.90   Education   \n",
       "3         Digital Digest                   67.17  Technology   \n",
       "4            Mind & Body                  110.51      Health   \n",
       "...                  ...                     ...         ...   \n",
       "749995      Learning Lab                   75.66   Education   \n",
       "749996   Business Briefs                   75.75    Business   \n",
       "749997  Lifestyle Lounge                   30.98   Lifestyle   \n",
       "749998       Style Guide                  108.98   Lifestyle   \n",
       "749999    Sports Central                   24.10      Sports   \n",
       "\n",
       "        Host_Popularity_percentage Publication_Day Publication_Time  \\\n",
       "0                            74.81        Thursday            Night   \n",
       "1                            66.95        Saturday        Afternoon   \n",
       "2                            69.97         Tuesday          Evening   \n",
       "3                            57.22          Monday          Morning   \n",
       "4                            80.07          Monday        Afternoon   \n",
       "...                            ...             ...              ...   \n",
       "749995                       69.36        Saturday          Morning   \n",
       "749996                       35.21        Saturday            Night   \n",
       "749997                       78.58        Thursday          Morning   \n",
       "749998                       45.39        Thursday          Morning   \n",
       "749999                       22.45        Saturday            Night   \n",
       "\n",
       "        Guest_Popularity_percentage  Number_of_Ads Episode_Sentiment  \\\n",
       "0                               NaN            0.0          Positive   \n",
       "1                             75.95            2.0          Negative   \n",
       "2                              8.97            0.0          Negative   \n",
       "3                             78.70            2.0          Positive   \n",
       "4                             58.68            3.0           Neutral   \n",
       "...                             ...            ...               ...   \n",
       "749995                          NaN            0.0          Negative   \n",
       "749996                          NaN            2.0           Neutral   \n",
       "749997                        84.89            0.0          Negative   \n",
       "749998                        93.27            0.0          Negative   \n",
       "749999                        36.72            0.0           Neutral   \n",
       "\n",
       "        Listening_Time_minutes  Episode_Title_int  \n",
       "0                     31.41998                 98  \n",
       "1                     88.01241                 26  \n",
       "2                     44.92531                 16  \n",
       "3                     46.27824                 45  \n",
       "4                     75.61031                 86  \n",
       "...                        ...                ...  \n",
       "749995                56.87058                 25  \n",
       "749996                45.46242                 21  \n",
       "749997                15.26000                 51  \n",
       "749998               100.72939                 47  \n",
       "749999                11.94439                 99  \n",
       "\n",
       "[750000 rows x 11 columns]"
      ]
     },
     "execution_count": 9,
     "metadata": {},
     "output_type": "execute_result"
    }
   ],
   "source": [
    "train_data"
   ]
  },
  {
   "cell_type": "markdown",
   "id": "088a987e",
   "metadata": {},
   "source": [
    "Same with the Test_data File"
   ]
  },
  {
   "cell_type": "code",
   "execution_count": 10,
   "id": "6278e7d6",
   "metadata": {},
   "outputs": [],
   "source": [
    "test_data[\"Episode_Title_int\"]= test_data[\"Episode_Title\"].str.strip('Episode').astype(int)"
   ]
  },
  {
   "cell_type": "code",
   "execution_count": 11,
   "id": "fc14caa3",
   "metadata": {},
   "outputs": [],
   "source": [
    "test_data.drop(['Episode_Title','id'], axis=1, inplace=True)"
   ]
  },
  {
   "cell_type": "code",
   "execution_count": 12,
   "id": "f327da1c",
   "metadata": {},
   "outputs": [
    {
     "name": "stdout",
     "output_type": "stream",
     "text": [
      "Episode_Length_minutes\n",
      "Guest_Popularity_percentage\n",
      "Number_of_Ads\n"
     ]
    }
   ],
   "source": [
    "for n in train_data.columns:\n",
    "    if train_data[n].isnull().sum():\n",
    "        print(n)\n",
    "        train_data[n + \"_na\"] = train_data[n].isnull().sum()\n",
    "        train_data[n].fillna(train_data[n].median(), inplace=True)\n",
    "        "
   ]
  },
  {
   "cell_type": "code",
   "execution_count": 13,
   "id": "c193a2a7",
   "metadata": {},
   "outputs": [
    {
     "name": "stdout",
     "output_type": "stream",
     "text": [
      "Episode_Length_minutes\n",
      "Guest_Popularity_percentage\n"
     ]
    }
   ],
   "source": [
    "for n in test_data.columns:\n",
    "    if test_data[n].isnull().sum():\n",
    "        print(n)\n",
    "        test_data[n + \"_na\"] = test_data[n].isnull().sum()\n",
    "        test_data[n].fillna(train_data[n].median(), inplace=True)\n",
    "        "
   ]
  },
  {
   "cell_type": "code",
   "execution_count": 14,
   "id": "25f98b34",
   "metadata": {},
   "outputs": [
    {
     "data": {
      "application/vnd.microsoft.datawrangler.viewer.v0+json": {
       "columns": [
        {
         "name": "index",
         "rawType": "int64",
         "type": "integer"
        },
        {
         "name": "Podcast_Name",
         "rawType": "object",
         "type": "string"
        },
        {
         "name": "Episode_Length_minutes",
         "rawType": "float64",
         "type": "float"
        },
        {
         "name": "Genre",
         "rawType": "object",
         "type": "string"
        },
        {
         "name": "Host_Popularity_percentage",
         "rawType": "float64",
         "type": "float"
        },
        {
         "name": "Publication_Day",
         "rawType": "object",
         "type": "string"
        },
        {
         "name": "Publication_Time",
         "rawType": "object",
         "type": "string"
        },
        {
         "name": "Guest_Popularity_percentage",
         "rawType": "float64",
         "type": "float"
        },
        {
         "name": "Number_of_Ads",
         "rawType": "float64",
         "type": "float"
        },
        {
         "name": "Episode_Sentiment",
         "rawType": "object",
         "type": "string"
        },
        {
         "name": "Episode_Title_int",
         "rawType": "int64",
         "type": "integer"
        },
        {
         "name": "Episode_Length_minutes_na",
         "rawType": "int64",
         "type": "integer"
        },
        {
         "name": "Guest_Popularity_percentage_na",
         "rawType": "int64",
         "type": "integer"
        }
       ],
       "ref": "ea7f6feb-f9db-406f-8cfe-47f244bf43a5",
       "rows": [
        [
         "0",
         "Educational Nuggets",
         "78.96",
         "Education",
         "38.11",
         "Saturday",
         "Evening",
         "53.33",
         "1.0",
         "Neutral",
         "73",
         "28736",
         "48832"
        ],
        [
         "1",
         "Sound Waves",
         "27.87",
         "Music",
         "71.29",
         "Sunday",
         "Morning",
         "53.58",
         "0.0",
         "Neutral",
         "23",
         "28736",
         "48832"
        ],
        [
         "2",
         "Joke Junction",
         "69.1",
         "Comedy",
         "67.89",
         "Friday",
         "Evening",
         "97.51",
         "0.0",
         "Positive",
         "11",
         "28736",
         "48832"
        ],
        [
         "3",
         "Comedy Corner",
         "115.39",
         "Comedy",
         "23.4",
         "Sunday",
         "Morning",
         "51.75",
         "2.0",
         "Positive",
         "73",
         "28736",
         "48832"
        ],
        [
         "4",
         "Life Lessons",
         "72.32",
         "Lifestyle",
         "58.1",
         "Wednesday",
         "Morning",
         "11.3",
         "2.0",
         "Neutral",
         "50",
         "28736",
         "48832"
        ],
        [
         "5",
         "Money Matters",
         "34.44",
         "Business",
         "77.18",
         "Sunday",
         "Night",
         "53.58",
         "0.0",
         "Neutral",
         "43",
         "28736",
         "48832"
        ],
        [
         "6",
         "Mystery Matters",
         "116.09",
         "True Crime",
         "27.57",
         "Friday",
         "Night",
         "22.82",
         "1.0",
         "Positive",
         "33",
         "28736",
         "48832"
        ],
        [
         "7",
         "Gadget Geek",
         "54.59",
         "Technology",
         "94.86",
         "Tuesday",
         "Morning",
         "94.76",
         "1.0",
         "Neutral",
         "24",
         "28736",
         "48832"
        ],
        [
         "8",
         "Home & Living",
         "92.69",
         "Lifestyle",
         "75.22",
         "Friday",
         "Night",
         "72.63",
         "0.0",
         "Neutral",
         "87",
         "28736",
         "48832"
        ],
        [
         "9",
         "True Crime Stories",
         "100.65",
         "True Crime",
         "27.66",
         "Tuesday",
         "Evening",
         "53.58",
         "1.0",
         "Negative",
         "76",
         "28736",
         "48832"
        ],
        [
         "10",
         "Finance Focus",
         "23.2",
         "Business",
         "32.2",
         "Saturday",
         "Evening",
         "20.21",
         "2.0",
         "Neutral",
         "31",
         "28736",
         "48832"
        ],
        [
         "11",
         "Innovators",
         "34.44",
         "Technology",
         "47.55",
         "Thursday",
         "Night",
         "46.03",
         "0.0",
         "Positive",
         "50",
         "28736",
         "48832"
        ],
        [
         "12",
         "Crime Chronicles",
         "49.86",
         "True Crime",
         "57.37",
         "Saturday",
         "Morning",
         "53.58",
         "2.0",
         "Negative",
         "30",
         "28736",
         "48832"
        ],
        [
         "13",
         "Innovators",
         "63.84",
         "Technology",
         "87.76",
         "Tuesday",
         "Morning",
         "53.58",
         "1.0",
         "Negative",
         "83",
         "28736",
         "48832"
        ],
        [
         "14",
         "Comedy Corner",
         "71.15",
         "Comedy",
         "70.6",
         "Thursday",
         "Morning",
         "32.7",
         "3.0",
         "Positive",
         "77",
         "28736",
         "48832"
        ],
        [
         "15",
         "Tech Talks",
         "87.02",
         "Technology",
         "86.21",
         "Wednesday",
         "Afternoon",
         "67.42",
         "3.0",
         "Negative",
         "4",
         "28736",
         "48832"
        ],
        [
         "16",
         "Style Guide",
         "63.84",
         "Lifestyle",
         "63.87",
         "Wednesday",
         "Evening",
         "86.45",
         "0.0",
         "Positive",
         "1",
         "28736",
         "48832"
        ],
        [
         "17",
         "World Watch",
         "47.97",
         "News",
         "57.62",
         "Friday",
         "Morning",
         "38.9",
         "1.0",
         "Positive",
         "19",
         "28736",
         "48832"
        ],
        [
         "18",
         "Sports Weekly",
         "88.96",
         "Sports",
         "52.81",
         "Saturday",
         "Afternoon",
         "43.81",
         "2.0",
         "Neutral",
         "70",
         "28736",
         "48832"
        ],
        [
         "19",
         "Finance Focus",
         "59.49",
         "Business",
         "35.98",
         "Monday",
         "Evening",
         "53.58",
         "0.0",
         "Neutral",
         "35",
         "28736",
         "48832"
        ],
        [
         "20",
         "Global News",
         "52.03",
         "News",
         "79.63",
         "Tuesday",
         "Morning",
         "53.09",
         "0.0",
         "Neutral",
         "53",
         "28736",
         "48832"
        ],
        [
         "21",
         "Humor Hub",
         "81.57",
         "Comedy",
         "57.06",
         "Friday",
         "Night",
         "73.91",
         "0.0",
         "Negative",
         "58",
         "28736",
         "48832"
        ],
        [
         "22",
         "Business Insights",
         "102.69",
         "Business",
         "25.4",
         "Wednesday",
         "Night",
         "45.51",
         "0.0",
         "Positive",
         "78",
         "28736",
         "48832"
        ],
        [
         "23",
         "Mystery Matters",
         "42.47",
         "True Crime",
         "61.42",
         "Sunday",
         "Evening",
         "94.99",
         "0.0",
         "Positive",
         "15",
         "28736",
         "48832"
        ],
        [
         "24",
         "Money Matters",
         "71.62",
         "Business",
         "89.12",
         "Monday",
         "Night",
         "93.84",
         "0.0",
         "Positive",
         "94",
         "28736",
         "48832"
        ],
        [
         "25",
         "Sport Spot",
         "63.84",
         "Sports",
         "60.75",
         "Sunday",
         "Night",
         "53.58",
         "0.0",
         "Neutral",
         "89",
         "28736",
         "48832"
        ],
        [
         "26",
         "Digital Digest",
         "19.77",
         "Technology",
         "35.53",
         "Monday",
         "Afternoon",
         "53.58",
         "3.0",
         "Neutral",
         "90",
         "28736",
         "48832"
        ],
        [
         "27",
         "Fashion Forward",
         "39.36",
         "Lifestyle",
         "62.94",
         "Friday",
         "Evening",
         "54.59",
         "2.0",
         "Positive",
         "88",
         "28736",
         "48832"
        ],
        [
         "28",
         "Sports Central",
         "63.84",
         "Sports",
         "29.37",
         "Monday",
         "Morning",
         "66.32",
         "3.0",
         "Negative",
         "65",
         "28736",
         "48832"
        ],
        [
         "29",
         "Humor Hub",
         "63.84",
         "Comedy",
         "26.98",
         "Tuesday",
         "Afternoon",
         "83.39",
         "2.0",
         "Neutral",
         "73",
         "28736",
         "48832"
        ],
        [
         "30",
         "World Watch",
         "51.81",
         "News",
         "50.4",
         "Tuesday",
         "Evening",
         "91.26",
         "0.0",
         "Positive",
         "34",
         "28736",
         "48832"
        ],
        [
         "31",
         "Funny Folks",
         "54.32",
         "Comedy",
         "27.61",
         "Sunday",
         "Afternoon",
         "63.73",
         "2.0",
         "Negative",
         "73",
         "28736",
         "48832"
        ],
        [
         "32",
         "Tech Talks",
         "20.87",
         "Technology",
         "49.83",
         "Thursday",
         "Morning",
         "88.3",
         "2.0",
         "Positive",
         "96",
         "28736",
         "48832"
        ],
        [
         "33",
         "Tech Trends",
         "86.22",
         "Technology",
         "63.64",
         "Sunday",
         "Night",
         "43.09",
         "2.0",
         "Negative",
         "59",
         "28736",
         "48832"
        ],
        [
         "34",
         "Laugh Line",
         "33.85",
         "Comedy",
         "29.35",
         "Wednesday",
         "Night",
         "41.27",
         "0.0",
         "Positive",
         "81",
         "28736",
         "48832"
        ],
        [
         "35",
         "Detective Diaries",
         "30.56",
         "True Crime",
         "33.07",
         "Friday",
         "Evening",
         "53.58",
         "0.0",
         "Positive",
         "69",
         "28736",
         "48832"
        ],
        [
         "36",
         "Life Lessons",
         "22.43",
         "Lifestyle",
         "49.32",
         "Friday",
         "Night",
         "6.17",
         "1.0",
         "Neutral",
         "77",
         "28736",
         "48832"
        ],
        [
         "37",
         "Mind & Body",
         "49.64",
         "Health",
         "96.03",
         "Thursday",
         "Morning",
         "17.81",
         "0.0",
         "Positive",
         "47",
         "28736",
         "48832"
        ],
        [
         "38",
         "Gadget Geek",
         "36.82",
         "Technology",
         "21.95",
         "Wednesday",
         "Night",
         "95.37",
         "2.0",
         "Positive",
         "23",
         "28736",
         "48832"
        ],
        [
         "39",
         "Fitness First",
         "36.37",
         "Health",
         "40.32",
         "Saturday",
         "Night",
         "52.52",
         "0.0",
         "Neutral",
         "79",
         "28736",
         "48832"
        ],
        [
         "40",
         "Funny Folks",
         "25.43",
         "Comedy",
         "36.51",
         "Wednesday",
         "Morning",
         "53.58",
         "3.0",
         "Positive",
         "100",
         "28736",
         "48832"
        ],
        [
         "41",
         "Tune Time",
         "115.79",
         "Music",
         "42.68",
         "Monday",
         "Evening",
         "18.25",
         "0.0",
         "Neutral",
         "55",
         "28736",
         "48832"
        ],
        [
         "42",
         "Crime Chronicles",
         "101.29",
         "True Crime",
         "28.24",
         "Sunday",
         "Evening",
         "53.58",
         "3.0",
         "Positive",
         "72",
         "28736",
         "48832"
        ],
        [
         "43",
         "Money Matters",
         "88.29",
         "Business",
         "91.29",
         "Saturday",
         "Night",
         "69.72",
         "0.0",
         "Positive",
         "64",
         "28736",
         "48832"
        ],
        [
         "44",
         "Lifestyle Lounge",
         "71.47",
         "Lifestyle",
         "35.22",
         "Friday",
         "Night",
         "43.69",
         "0.0",
         "Negative",
         "86",
         "28736",
         "48832"
        ],
        [
         "45",
         "Tune Time",
         "29.39",
         "Music",
         "49.81",
         "Friday",
         "Night",
         "53.58",
         "0.0",
         "Positive",
         "24",
         "28736",
         "48832"
        ],
        [
         "46",
         "Sports Central",
         "23.75",
         "Sports",
         "56.83",
         "Thursday",
         "Night",
         "53.58",
         "3.0",
         "Positive",
         "18",
         "28736",
         "48832"
        ],
        [
         "47",
         "Business Insights",
         "79.27",
         "Business",
         "50.28",
         "Sunday",
         "Afternoon",
         "0.05",
         "3.0",
         "Negative",
         "70",
         "28736",
         "48832"
        ],
        [
         "48",
         "Business Briefs",
         "25.84",
         "Business",
         "75.58",
         "Sunday",
         "Evening",
         "53.58",
         "2.0",
         "Neutral",
         "74",
         "28736",
         "48832"
        ],
        [
         "49",
         "Digital Digest",
         "13.56",
         "Technology",
         "80.81",
         "Thursday",
         "Night",
         "37.78",
         "3.0",
         "Negative",
         "10",
         "28736",
         "48832"
        ]
       ],
       "shape": {
        "columns": 12,
        "rows": 250000
       }
      },
      "text/html": [
       "<div>\n",
       "<style scoped>\n",
       "    .dataframe tbody tr th:only-of-type {\n",
       "        vertical-align: middle;\n",
       "    }\n",
       "\n",
       "    .dataframe tbody tr th {\n",
       "        vertical-align: top;\n",
       "    }\n",
       "\n",
       "    .dataframe thead th {\n",
       "        text-align: right;\n",
       "    }\n",
       "</style>\n",
       "<table border=\"1\" class=\"dataframe\">\n",
       "  <thead>\n",
       "    <tr style=\"text-align: right;\">\n",
       "      <th></th>\n",
       "      <th>Podcast_Name</th>\n",
       "      <th>Episode_Length_minutes</th>\n",
       "      <th>Genre</th>\n",
       "      <th>Host_Popularity_percentage</th>\n",
       "      <th>Publication_Day</th>\n",
       "      <th>Publication_Time</th>\n",
       "      <th>Guest_Popularity_percentage</th>\n",
       "      <th>Number_of_Ads</th>\n",
       "      <th>Episode_Sentiment</th>\n",
       "      <th>Episode_Title_int</th>\n",
       "      <th>Episode_Length_minutes_na</th>\n",
       "      <th>Guest_Popularity_percentage_na</th>\n",
       "    </tr>\n",
       "  </thead>\n",
       "  <tbody>\n",
       "    <tr>\n",
       "      <th>0</th>\n",
       "      <td>Educational Nuggets</td>\n",
       "      <td>78.96</td>\n",
       "      <td>Education</td>\n",
       "      <td>38.11</td>\n",
       "      <td>Saturday</td>\n",
       "      <td>Evening</td>\n",
       "      <td>53.33</td>\n",
       "      <td>1.0</td>\n",
       "      <td>Neutral</td>\n",
       "      <td>73</td>\n",
       "      <td>28736</td>\n",
       "      <td>48832</td>\n",
       "    </tr>\n",
       "    <tr>\n",
       "      <th>1</th>\n",
       "      <td>Sound Waves</td>\n",
       "      <td>27.87</td>\n",
       "      <td>Music</td>\n",
       "      <td>71.29</td>\n",
       "      <td>Sunday</td>\n",
       "      <td>Morning</td>\n",
       "      <td>53.58</td>\n",
       "      <td>0.0</td>\n",
       "      <td>Neutral</td>\n",
       "      <td>23</td>\n",
       "      <td>28736</td>\n",
       "      <td>48832</td>\n",
       "    </tr>\n",
       "    <tr>\n",
       "      <th>2</th>\n",
       "      <td>Joke Junction</td>\n",
       "      <td>69.10</td>\n",
       "      <td>Comedy</td>\n",
       "      <td>67.89</td>\n",
       "      <td>Friday</td>\n",
       "      <td>Evening</td>\n",
       "      <td>97.51</td>\n",
       "      <td>0.0</td>\n",
       "      <td>Positive</td>\n",
       "      <td>11</td>\n",
       "      <td>28736</td>\n",
       "      <td>48832</td>\n",
       "    </tr>\n",
       "    <tr>\n",
       "      <th>3</th>\n",
       "      <td>Comedy Corner</td>\n",
       "      <td>115.39</td>\n",
       "      <td>Comedy</td>\n",
       "      <td>23.40</td>\n",
       "      <td>Sunday</td>\n",
       "      <td>Morning</td>\n",
       "      <td>51.75</td>\n",
       "      <td>2.0</td>\n",
       "      <td>Positive</td>\n",
       "      <td>73</td>\n",
       "      <td>28736</td>\n",
       "      <td>48832</td>\n",
       "    </tr>\n",
       "    <tr>\n",
       "      <th>4</th>\n",
       "      <td>Life Lessons</td>\n",
       "      <td>72.32</td>\n",
       "      <td>Lifestyle</td>\n",
       "      <td>58.10</td>\n",
       "      <td>Wednesday</td>\n",
       "      <td>Morning</td>\n",
       "      <td>11.30</td>\n",
       "      <td>2.0</td>\n",
       "      <td>Neutral</td>\n",
       "      <td>50</td>\n",
       "      <td>28736</td>\n",
       "      <td>48832</td>\n",
       "    </tr>\n",
       "    <tr>\n",
       "      <th>...</th>\n",
       "      <td>...</td>\n",
       "      <td>...</td>\n",
       "      <td>...</td>\n",
       "      <td>...</td>\n",
       "      <td>...</td>\n",
       "      <td>...</td>\n",
       "      <td>...</td>\n",
       "      <td>...</td>\n",
       "      <td>...</td>\n",
       "      <td>...</td>\n",
       "      <td>...</td>\n",
       "      <td>...</td>\n",
       "    </tr>\n",
       "    <tr>\n",
       "      <th>249995</th>\n",
       "      <td>Mind &amp; Body</td>\n",
       "      <td>21.05</td>\n",
       "      <td>Health</td>\n",
       "      <td>65.77</td>\n",
       "      <td>Saturday</td>\n",
       "      <td>Evening</td>\n",
       "      <td>96.40</td>\n",
       "      <td>3.0</td>\n",
       "      <td>Negative</td>\n",
       "      <td>100</td>\n",
       "      <td>28736</td>\n",
       "      <td>48832</td>\n",
       "    </tr>\n",
       "    <tr>\n",
       "      <th>249996</th>\n",
       "      <td>Joke Junction</td>\n",
       "      <td>85.50</td>\n",
       "      <td>Comedy</td>\n",
       "      <td>41.47</td>\n",
       "      <td>Saturday</td>\n",
       "      <td>Night</td>\n",
       "      <td>30.52</td>\n",
       "      <td>2.0</td>\n",
       "      <td>Negative</td>\n",
       "      <td>85</td>\n",
       "      <td>28736</td>\n",
       "      <td>48832</td>\n",
       "    </tr>\n",
       "    <tr>\n",
       "      <th>249997</th>\n",
       "      <td>Joke Junction</td>\n",
       "      <td>12.11</td>\n",
       "      <td>Comedy</td>\n",
       "      <td>25.92</td>\n",
       "      <td>Thursday</td>\n",
       "      <td>Evening</td>\n",
       "      <td>73.69</td>\n",
       "      <td>1.0</td>\n",
       "      <td>Neutral</td>\n",
       "      <td>63</td>\n",
       "      <td>28736</td>\n",
       "      <td>48832</td>\n",
       "    </tr>\n",
       "    <tr>\n",
       "      <th>249998</th>\n",
       "      <td>Market Masters</td>\n",
       "      <td>113.46</td>\n",
       "      <td>Business</td>\n",
       "      <td>43.47</td>\n",
       "      <td>Friday</td>\n",
       "      <td>Night</td>\n",
       "      <td>93.59</td>\n",
       "      <td>3.0</td>\n",
       "      <td>Positive</td>\n",
       "      <td>46</td>\n",
       "      <td>28736</td>\n",
       "      <td>48832</td>\n",
       "    </tr>\n",
       "    <tr>\n",
       "      <th>249999</th>\n",
       "      <td>Brain Boost</td>\n",
       "      <td>78.05</td>\n",
       "      <td>Education</td>\n",
       "      <td>41.72</td>\n",
       "      <td>Friday</td>\n",
       "      <td>Morning</td>\n",
       "      <td>50.77</td>\n",
       "      <td>0.0</td>\n",
       "      <td>Negative</td>\n",
       "      <td>46</td>\n",
       "      <td>28736</td>\n",
       "      <td>48832</td>\n",
       "    </tr>\n",
       "  </tbody>\n",
       "</table>\n",
       "<p>250000 rows × 12 columns</p>\n",
       "</div>"
      ],
      "text/plain": [
       "               Podcast_Name  Episode_Length_minutes      Genre  \\\n",
       "0       Educational Nuggets                   78.96  Education   \n",
       "1               Sound Waves                   27.87      Music   \n",
       "2             Joke Junction                   69.10     Comedy   \n",
       "3             Comedy Corner                  115.39     Comedy   \n",
       "4              Life Lessons                   72.32  Lifestyle   \n",
       "...                     ...                     ...        ...   \n",
       "249995          Mind & Body                   21.05     Health   \n",
       "249996        Joke Junction                   85.50     Comedy   \n",
       "249997        Joke Junction                   12.11     Comedy   \n",
       "249998       Market Masters                  113.46   Business   \n",
       "249999          Brain Boost                   78.05  Education   \n",
       "\n",
       "        Host_Popularity_percentage Publication_Day Publication_Time  \\\n",
       "0                            38.11        Saturday          Evening   \n",
       "1                            71.29          Sunday          Morning   \n",
       "2                            67.89          Friday          Evening   \n",
       "3                            23.40          Sunday          Morning   \n",
       "4                            58.10       Wednesday          Morning   \n",
       "...                            ...             ...              ...   \n",
       "249995                       65.77        Saturday          Evening   \n",
       "249996                       41.47        Saturday            Night   \n",
       "249997                       25.92        Thursday          Evening   \n",
       "249998                       43.47          Friday            Night   \n",
       "249999                       41.72          Friday          Morning   \n",
       "\n",
       "        Guest_Popularity_percentage  Number_of_Ads Episode_Sentiment  \\\n",
       "0                             53.33            1.0           Neutral   \n",
       "1                             53.58            0.0           Neutral   \n",
       "2                             97.51            0.0          Positive   \n",
       "3                             51.75            2.0          Positive   \n",
       "4                             11.30            2.0           Neutral   \n",
       "...                             ...            ...               ...   \n",
       "249995                        96.40            3.0          Negative   \n",
       "249996                        30.52            2.0          Negative   \n",
       "249997                        73.69            1.0           Neutral   \n",
       "249998                        93.59            3.0          Positive   \n",
       "249999                        50.77            0.0          Negative   \n",
       "\n",
       "        Episode_Title_int  Episode_Length_minutes_na  \\\n",
       "0                      73                      28736   \n",
       "1                      23                      28736   \n",
       "2                      11                      28736   \n",
       "3                      73                      28736   \n",
       "4                      50                      28736   \n",
       "...                   ...                        ...   \n",
       "249995                100                      28736   \n",
       "249996                 85                      28736   \n",
       "249997                 63                      28736   \n",
       "249998                 46                      28736   \n",
       "249999                 46                      28736   \n",
       "\n",
       "        Guest_Popularity_percentage_na  \n",
       "0                                48832  \n",
       "1                                48832  \n",
       "2                                48832  \n",
       "3                                48832  \n",
       "4                                48832  \n",
       "...                                ...  \n",
       "249995                           48832  \n",
       "249996                           48832  \n",
       "249997                           48832  \n",
       "249998                           48832  \n",
       "249999                           48832  \n",
       "\n",
       "[250000 rows x 12 columns]"
      ]
     },
     "execution_count": 14,
     "metadata": {},
     "output_type": "execute_result"
    }
   ],
   "source": [
    "test_data"
   ]
  },
  {
   "cell_type": "code",
   "execution_count": 15,
   "id": "11f94855",
   "metadata": {},
   "outputs": [
    {
     "data": {
      "application/vnd.microsoft.datawrangler.viewer.v0+json": {
       "columns": [
        {
         "name": "index",
         "rawType": "int64",
         "type": "integer"
        },
        {
         "name": "Podcast_Name",
         "rawType": "object",
         "type": "string"
        },
        {
         "name": "Episode_Length_minutes",
         "rawType": "float64",
         "type": "float"
        },
        {
         "name": "Genre",
         "rawType": "object",
         "type": "string"
        },
        {
         "name": "Host_Popularity_percentage",
         "rawType": "float64",
         "type": "float"
        },
        {
         "name": "Publication_Day",
         "rawType": "object",
         "type": "string"
        },
        {
         "name": "Publication_Time",
         "rawType": "object",
         "type": "string"
        },
        {
         "name": "Guest_Popularity_percentage",
         "rawType": "float64",
         "type": "float"
        },
        {
         "name": "Number_of_Ads",
         "rawType": "float64",
         "type": "float"
        },
        {
         "name": "Episode_Sentiment",
         "rawType": "object",
         "type": "string"
        },
        {
         "name": "Listening_Time_minutes",
         "rawType": "float64",
         "type": "float"
        },
        {
         "name": "Episode_Title_int",
         "rawType": "int64",
         "type": "integer"
        },
        {
         "name": "Episode_Length_minutes_na",
         "rawType": "int64",
         "type": "integer"
        },
        {
         "name": "Guest_Popularity_percentage_na",
         "rawType": "int64",
         "type": "integer"
        },
        {
         "name": "Number_of_Ads_na",
         "rawType": "int64",
         "type": "integer"
        }
       ],
       "ref": "b4e4390a-25fa-44bc-8c55-9b7e5cbefd21",
       "rows": [
        [
         "0",
         "Mystery Matters",
         "63.84",
         "True Crime",
         "74.81",
         "Thursday",
         "Night",
         "53.58",
         "0.0",
         "Positive",
         "31.41998",
         "98",
         "87093",
         "146030",
         "1"
        ],
        [
         "1",
         "Joke Junction",
         "119.8",
         "Comedy",
         "66.95",
         "Saturday",
         "Afternoon",
         "75.95",
         "2.0",
         "Negative",
         "88.01241",
         "26",
         "87093",
         "146030",
         "1"
        ],
        [
         "2",
         "Study Sessions",
         "73.9",
         "Education",
         "69.97",
         "Tuesday",
         "Evening",
         "8.97",
         "0.0",
         "Negative",
         "44.92531",
         "16",
         "87093",
         "146030",
         "1"
        ],
        [
         "3",
         "Digital Digest",
         "67.17",
         "Technology",
         "57.22",
         "Monday",
         "Morning",
         "78.7",
         "2.0",
         "Positive",
         "46.27824",
         "45",
         "87093",
         "146030",
         "1"
        ],
        [
         "4",
         "Mind & Body",
         "110.51",
         "Health",
         "80.07",
         "Monday",
         "Afternoon",
         "58.68",
         "3.0",
         "Neutral",
         "75.61031",
         "86",
         "87093",
         "146030",
         "1"
        ],
        [
         "5",
         "Fitness First",
         "26.54",
         "Health",
         "48.96",
         "Saturday",
         "Afternoon",
         "53.58",
         "3.0",
         "Positive",
         "22.77047",
         "19",
         "87093",
         "146030",
         "1"
        ],
        [
         "6",
         "Criminal Minds",
         "69.83",
         "True Crime",
         "35.82",
         "Sunday",
         "Night",
         "39.02",
         "0.0",
         "Neutral",
         "64.75024",
         "47",
         "87093",
         "146030",
         "1"
        ],
        [
         "7",
         "News Roundup",
         "48.52",
         "News",
         "44.99",
         "Thursday",
         "Night",
         "20.12",
         "0.0",
         "Positive",
         "22.37517",
         "44",
         "87093",
         "146030",
         "1"
        ],
        [
         "8",
         "Daily Digest",
         "105.87",
         "News",
         "69.81",
         "Monday",
         "Evening",
         "53.58",
         "2.0",
         "Neutral",
         "68.00124",
         "32",
         "87093",
         "146030",
         "1"
        ],
        [
         "9",
         "Music Matters",
         "63.84",
         "Music",
         "82.18",
         "Thursday",
         "Night",
         "59.72",
         "3.0",
         "Neutral",
         "45.94761",
         "81",
         "87093",
         "146030",
         "1"
        ],
        [
         "10",
         "Sports Central",
         "106.41",
         "Sports",
         "84.29",
         "Thursday",
         "Evening",
         "32.84",
         "3.0",
         "Positive",
         "74.08016",
         "66",
         "87093",
         "146030",
         "1"
        ],
        [
         "11",
         "Melody Mix",
         "107.26",
         "Music",
         "78.12",
         "Monday",
         "Evening",
         "78.12",
         "1.0",
         "Positive",
         "103.56",
         "62",
         "87093",
         "146030",
         "1"
        ],
        [
         "12",
         "Game Day",
         "82.14",
         "Sports",
         "86.65",
         "Saturday",
         "Morning",
         "35.19",
         "1.0",
         "Neutral",
         "48.26043",
         "76",
         "87093",
         "146030",
         "1"
        ],
        [
         "13",
         "Gadget Geek",
         "92.5",
         "Technology",
         "68.42",
         "Wednesday",
         "Afternoon",
         "87.87",
         "0.0",
         "Neutral",
         "50.93591",
         "37",
         "87093",
         "146030",
         "1"
        ],
        [
         "14",
         "Global News",
         "81.45",
         "News",
         "89.62",
         "Saturday",
         "Evening",
         "28.64",
         "1.0",
         "Negative",
         "41.93243",
         "20",
         "87093",
         "146030",
         "1"
        ],
        [
         "15",
         "Tech Talks",
         "68.33",
         "Technology",
         "75.33",
         "Thursday",
         "Evening",
         "92.9",
         "0.0",
         "Neutral",
         "63.97718",
         "47",
         "87093",
         "146030",
         "1"
        ],
        [
         "16",
         "Study Sessions",
         "78.47",
         "Education",
         "48.84",
         "Sunday",
         "Afternoon",
         "53.58",
         "2.0",
         "Neutral",
         "42.89441",
         "82",
         "87093",
         "146030",
         "1"
        ],
        [
         "17",
         "Sport Spot",
         "95.45",
         "Sports",
         "92.19",
         "Thursday",
         "Afternoon",
         "70.29",
         "2.0",
         "Neutral",
         "79.67749",
         "32",
         "87093",
         "146030",
         "1"
        ],
        [
         "18",
         "Digital Digest",
         "7.34",
         "Technology",
         "20.81",
         "Sunday",
         "Night",
         "83.06",
         "3.0",
         "Positive",
         "0.75783",
         "72",
         "87093",
         "146030",
         "1"
        ],
        [
         "19",
         "Sport Spot",
         "51.6",
         "Sports",
         "61.6",
         "Wednesday",
         "Evening",
         "90.41",
         "1.0",
         "Positive",
         "14.96035",
         "61",
         "87093",
         "146030",
         "1"
        ],
        [
         "20",
         "Funny Folks",
         "54.67",
         "Comedy",
         "45.47",
         "Wednesday",
         "Afternoon",
         "53.58",
         "2.0",
         "Neutral",
         "29.2275",
         "100",
         "87093",
         "146030",
         "1"
        ],
        [
         "21",
         "Sports Weekly",
         "67.05",
         "Sports",
         "58.77",
         "Saturday",
         "Night",
         "53.58",
         "0.0",
         "Neutral",
         "56.87222",
         "100",
         "87093",
         "146030",
         "1"
        ],
        [
         "22",
         "Business Briefs",
         "66.22",
         "Business",
         "62.81",
         "Wednesday",
         "Night",
         "88.86",
         "0.0",
         "Neutral",
         "47.60142",
         "54",
         "87093",
         "146030",
         "1"
        ],
        [
         "23",
         "Digital Digest",
         "97.25",
         "Technology",
         "36.1",
         "Tuesday",
         "Afternoon",
         "80.43",
         "0.0",
         "Neutral",
         "89.71709",
         "17",
         "87093",
         "146030",
         "1"
        ],
        [
         "24",
         "Sports Central",
         "79.5",
         "Sports",
         "59.96",
         "Monday",
         "Evening",
         "15.72",
         "0.0",
         "Neutral",
         "54.52628",
         "36",
         "87093",
         "146030",
         "1"
        ],
        [
         "25",
         "Tech Trends",
         "105.35",
         "Technology",
         "55.03",
         "Wednesday",
         "Afternoon",
         "76.12",
         "1.0",
         "Neutral",
         "99.15797",
         "97",
         "87093",
         "146030",
         "1"
        ],
        [
         "26",
         "Sports Weekly",
         "110.7",
         "Sports",
         "98.58",
         "Saturday",
         "Night",
         "53.58",
         "2.0",
         "Positive",
         "93.02372",
         "27",
         "87093",
         "146030",
         "1"
        ],
        [
         "27",
         "Innovators",
         "113.68",
         "Technology",
         "38.49",
         "Wednesday",
         "Afternoon",
         "28.53",
         "0.0",
         "Positive",
         "112.68",
         "31",
         "87093",
         "146030",
         "1"
        ],
        [
         "28",
         "Melody Mix",
         "55.66",
         "Music",
         "98.62",
         "Tuesday",
         "Night",
         "56.84",
         "0.0",
         "Neutral",
         "25.47053",
         "88",
         "87093",
         "146030",
         "1"
        ],
        [
         "29",
         "Health Hour",
         "63.84",
         "Health",
         "45.97",
         "Saturday",
         "Evening",
         "15.43",
         "1.0",
         "Negative",
         "25.38384",
         "38",
         "87093",
         "146030",
         "1"
        ],
        [
         "30",
         "Comedy Corner",
         "105.46",
         "Comedy",
         "34.65",
         "Tuesday",
         "Night",
         "62.55",
         "2.0",
         "Neutral",
         "76.78874",
         "26",
         "87093",
         "146030",
         "1"
        ],
        [
         "31",
         "Global News",
         "118.15",
         "News",
         "86.22",
         "Friday",
         "Morning",
         "64.88",
         "2.0",
         "Neutral",
         "57.4838",
         "92",
         "87093",
         "146030",
         "1"
        ],
        [
         "32",
         "Sound Waves",
         "117.88",
         "Music",
         "41.28",
         "Saturday",
         "Morning",
         "53.58",
         "0.0",
         "Positive",
         "101.19214",
         "74",
         "87093",
         "146030",
         "1"
        ],
        [
         "33",
         "Fitness First",
         "59.69",
         "Health",
         "91.79",
         "Saturday",
         "Night",
         "88.08",
         "1.0",
         "Negative",
         "53.46902",
         "72",
         "87093",
         "146030",
         "1"
        ],
        [
         "34",
         "Study Sessions",
         "8.66",
         "Education",
         "49.75",
         "Friday",
         "Morning",
         "53.58",
         "3.0",
         "Neutral",
         "6.67525",
         "30",
         "87093",
         "146030",
         "1"
        ],
        [
         "35",
         "Sport Spot",
         "75.02",
         "Sports",
         "95.89",
         "Friday",
         "Night",
         "59.71",
         "0.0",
         "Positive",
         "40.33025",
         "63",
         "87093",
         "146030",
         "1"
        ],
        [
         "36",
         "Business Briefs",
         "12.52",
         "Business",
         "61.95",
         "Wednesday",
         "Afternoon",
         "68.69",
         "2.0",
         "Neutral",
         "9.14796",
         "38",
         "87093",
         "146030",
         "1"
        ],
        [
         "37",
         "Funny Folks",
         "5.83",
         "Comedy",
         "46.48",
         "Monday",
         "Evening",
         "31.22",
         "1.0",
         "Negative",
         "0.0",
         "82",
         "87093",
         "146030",
         "1"
        ],
        [
         "38",
         "Music Matters",
         "86.84",
         "Music",
         "86.65",
         "Thursday",
         "Morning",
         "28.27",
         "1.0",
         "Neutral",
         "81.49839",
         "32",
         "87093",
         "146030",
         "1"
        ],
        [
         "39",
         "Brain Boost",
         "39.04",
         "Education",
         "83.95",
         "Wednesday",
         "Night",
         "48.22",
         "0.0",
         "Positive",
         "34.71174",
         "67",
         "87093",
         "146030",
         "1"
        ],
        [
         "40",
         "Sports Central",
         "69.66",
         "Sports",
         "57.32",
         "Thursday",
         "Evening",
         "61.32",
         "1.0",
         "Neutral",
         "50.05332",
         "77",
         "87093",
         "146030",
         "1"
        ],
        [
         "41",
         "Game Day",
         "33.02",
         "Sports",
         "27.78",
         "Wednesday",
         "Morning",
         "91.13",
         "2.0",
         "Positive",
         "16.36",
         "4",
         "87093",
         "146030",
         "1"
        ],
        [
         "42",
         "Innovators",
         "32.29",
         "Technology",
         "89.36",
         "Sunday",
         "Evening",
         "42.61",
         "3.0",
         "Neutral",
         "26.57501",
         "17",
         "87093",
         "146030",
         "1"
        ],
        [
         "43",
         "Funny Folks",
         "63.84",
         "Comedy",
         "33.02",
         "Saturday",
         "Afternoon",
         "64.7",
         "2.0",
         "Positive",
         "35.11072",
         "93",
         "87093",
         "146030",
         "1"
        ],
        [
         "44",
         "Game Day",
         "111.15",
         "Sports",
         "53.98",
         "Saturday",
         "Evening",
         "34.96",
         "1.0",
         "Positive",
         "97.1637",
         "24",
         "87093",
         "146030",
         "1"
        ],
        [
         "45",
         "Athlete's Arena",
         "11.68",
         "Sports",
         "39.19",
         "Saturday",
         "Morning",
         "34.51",
         "1.0",
         "Negative",
         "7.04845",
         "1",
         "87093",
         "146030",
         "1"
        ],
        [
         "46",
         "Mind & Body",
         "92.81",
         "Health",
         "28.52",
         "Sunday",
         "Evening",
         "24.65",
         "0.0",
         "Positive",
         "53.58589",
         "2",
         "87093",
         "146030",
         "1"
        ],
        [
         "47",
         "Wellness Wave",
         "33.23",
         "Health",
         "43.35",
         "Wednesday",
         "Night",
         "0.62",
         "1.0",
         "Neutral",
         "30.12822",
         "25",
         "87093",
         "146030",
         "1"
        ],
        [
         "48",
         "Sports Weekly",
         "31.69",
         "Sports",
         "24.8",
         "Sunday",
         "Evening",
         "99.63",
         "1.0",
         "Positive",
         "24.12",
         "56",
         "87093",
         "146030",
         "1"
        ],
        [
         "49",
         "Style Guide",
         "63.84",
         "Lifestyle",
         "78.82",
         "Saturday",
         "Morning",
         "53.58",
         "2.0",
         "Positive",
         "24.40379",
         "75",
         "87093",
         "146030",
         "1"
        ]
       ],
       "shape": {
        "columns": 14,
        "rows": 750000
       }
      },
      "text/html": [
       "<div>\n",
       "<style scoped>\n",
       "    .dataframe tbody tr th:only-of-type {\n",
       "        vertical-align: middle;\n",
       "    }\n",
       "\n",
       "    .dataframe tbody tr th {\n",
       "        vertical-align: top;\n",
       "    }\n",
       "\n",
       "    .dataframe thead th {\n",
       "        text-align: right;\n",
       "    }\n",
       "</style>\n",
       "<table border=\"1\" class=\"dataframe\">\n",
       "  <thead>\n",
       "    <tr style=\"text-align: right;\">\n",
       "      <th></th>\n",
       "      <th>Podcast_Name</th>\n",
       "      <th>Episode_Length_minutes</th>\n",
       "      <th>Genre</th>\n",
       "      <th>Host_Popularity_percentage</th>\n",
       "      <th>Publication_Day</th>\n",
       "      <th>Publication_Time</th>\n",
       "      <th>Guest_Popularity_percentage</th>\n",
       "      <th>Number_of_Ads</th>\n",
       "      <th>Episode_Sentiment</th>\n",
       "      <th>Listening_Time_minutes</th>\n",
       "      <th>Episode_Title_int</th>\n",
       "      <th>Episode_Length_minutes_na</th>\n",
       "      <th>Guest_Popularity_percentage_na</th>\n",
       "      <th>Number_of_Ads_na</th>\n",
       "    </tr>\n",
       "  </thead>\n",
       "  <tbody>\n",
       "    <tr>\n",
       "      <th>0</th>\n",
       "      <td>Mystery Matters</td>\n",
       "      <td>63.84</td>\n",
       "      <td>True Crime</td>\n",
       "      <td>74.81</td>\n",
       "      <td>Thursday</td>\n",
       "      <td>Night</td>\n",
       "      <td>53.58</td>\n",
       "      <td>0.0</td>\n",
       "      <td>Positive</td>\n",
       "      <td>31.41998</td>\n",
       "      <td>98</td>\n",
       "      <td>87093</td>\n",
       "      <td>146030</td>\n",
       "      <td>1</td>\n",
       "    </tr>\n",
       "    <tr>\n",
       "      <th>1</th>\n",
       "      <td>Joke Junction</td>\n",
       "      <td>119.80</td>\n",
       "      <td>Comedy</td>\n",
       "      <td>66.95</td>\n",
       "      <td>Saturday</td>\n",
       "      <td>Afternoon</td>\n",
       "      <td>75.95</td>\n",
       "      <td>2.0</td>\n",
       "      <td>Negative</td>\n",
       "      <td>88.01241</td>\n",
       "      <td>26</td>\n",
       "      <td>87093</td>\n",
       "      <td>146030</td>\n",
       "      <td>1</td>\n",
       "    </tr>\n",
       "    <tr>\n",
       "      <th>2</th>\n",
       "      <td>Study Sessions</td>\n",
       "      <td>73.90</td>\n",
       "      <td>Education</td>\n",
       "      <td>69.97</td>\n",
       "      <td>Tuesday</td>\n",
       "      <td>Evening</td>\n",
       "      <td>8.97</td>\n",
       "      <td>0.0</td>\n",
       "      <td>Negative</td>\n",
       "      <td>44.92531</td>\n",
       "      <td>16</td>\n",
       "      <td>87093</td>\n",
       "      <td>146030</td>\n",
       "      <td>1</td>\n",
       "    </tr>\n",
       "    <tr>\n",
       "      <th>3</th>\n",
       "      <td>Digital Digest</td>\n",
       "      <td>67.17</td>\n",
       "      <td>Technology</td>\n",
       "      <td>57.22</td>\n",
       "      <td>Monday</td>\n",
       "      <td>Morning</td>\n",
       "      <td>78.70</td>\n",
       "      <td>2.0</td>\n",
       "      <td>Positive</td>\n",
       "      <td>46.27824</td>\n",
       "      <td>45</td>\n",
       "      <td>87093</td>\n",
       "      <td>146030</td>\n",
       "      <td>1</td>\n",
       "    </tr>\n",
       "    <tr>\n",
       "      <th>4</th>\n",
       "      <td>Mind &amp; Body</td>\n",
       "      <td>110.51</td>\n",
       "      <td>Health</td>\n",
       "      <td>80.07</td>\n",
       "      <td>Monday</td>\n",
       "      <td>Afternoon</td>\n",
       "      <td>58.68</td>\n",
       "      <td>3.0</td>\n",
       "      <td>Neutral</td>\n",
       "      <td>75.61031</td>\n",
       "      <td>86</td>\n",
       "      <td>87093</td>\n",
       "      <td>146030</td>\n",
       "      <td>1</td>\n",
       "    </tr>\n",
       "    <tr>\n",
       "      <th>...</th>\n",
       "      <td>...</td>\n",
       "      <td>...</td>\n",
       "      <td>...</td>\n",
       "      <td>...</td>\n",
       "      <td>...</td>\n",
       "      <td>...</td>\n",
       "      <td>...</td>\n",
       "      <td>...</td>\n",
       "      <td>...</td>\n",
       "      <td>...</td>\n",
       "      <td>...</td>\n",
       "      <td>...</td>\n",
       "      <td>...</td>\n",
       "      <td>...</td>\n",
       "    </tr>\n",
       "    <tr>\n",
       "      <th>749995</th>\n",
       "      <td>Learning Lab</td>\n",
       "      <td>75.66</td>\n",
       "      <td>Education</td>\n",
       "      <td>69.36</td>\n",
       "      <td>Saturday</td>\n",
       "      <td>Morning</td>\n",
       "      <td>53.58</td>\n",
       "      <td>0.0</td>\n",
       "      <td>Negative</td>\n",
       "      <td>56.87058</td>\n",
       "      <td>25</td>\n",
       "      <td>87093</td>\n",
       "      <td>146030</td>\n",
       "      <td>1</td>\n",
       "    </tr>\n",
       "    <tr>\n",
       "      <th>749996</th>\n",
       "      <td>Business Briefs</td>\n",
       "      <td>75.75</td>\n",
       "      <td>Business</td>\n",
       "      <td>35.21</td>\n",
       "      <td>Saturday</td>\n",
       "      <td>Night</td>\n",
       "      <td>53.58</td>\n",
       "      <td>2.0</td>\n",
       "      <td>Neutral</td>\n",
       "      <td>45.46242</td>\n",
       "      <td>21</td>\n",
       "      <td>87093</td>\n",
       "      <td>146030</td>\n",
       "      <td>1</td>\n",
       "    </tr>\n",
       "    <tr>\n",
       "      <th>749997</th>\n",
       "      <td>Lifestyle Lounge</td>\n",
       "      <td>30.98</td>\n",
       "      <td>Lifestyle</td>\n",
       "      <td>78.58</td>\n",
       "      <td>Thursday</td>\n",
       "      <td>Morning</td>\n",
       "      <td>84.89</td>\n",
       "      <td>0.0</td>\n",
       "      <td>Negative</td>\n",
       "      <td>15.26000</td>\n",
       "      <td>51</td>\n",
       "      <td>87093</td>\n",
       "      <td>146030</td>\n",
       "      <td>1</td>\n",
       "    </tr>\n",
       "    <tr>\n",
       "      <th>749998</th>\n",
       "      <td>Style Guide</td>\n",
       "      <td>108.98</td>\n",
       "      <td>Lifestyle</td>\n",
       "      <td>45.39</td>\n",
       "      <td>Thursday</td>\n",
       "      <td>Morning</td>\n",
       "      <td>93.27</td>\n",
       "      <td>0.0</td>\n",
       "      <td>Negative</td>\n",
       "      <td>100.72939</td>\n",
       "      <td>47</td>\n",
       "      <td>87093</td>\n",
       "      <td>146030</td>\n",
       "      <td>1</td>\n",
       "    </tr>\n",
       "    <tr>\n",
       "      <th>749999</th>\n",
       "      <td>Sports Central</td>\n",
       "      <td>24.10</td>\n",
       "      <td>Sports</td>\n",
       "      <td>22.45</td>\n",
       "      <td>Saturday</td>\n",
       "      <td>Night</td>\n",
       "      <td>36.72</td>\n",
       "      <td>0.0</td>\n",
       "      <td>Neutral</td>\n",
       "      <td>11.94439</td>\n",
       "      <td>99</td>\n",
       "      <td>87093</td>\n",
       "      <td>146030</td>\n",
       "      <td>1</td>\n",
       "    </tr>\n",
       "  </tbody>\n",
       "</table>\n",
       "<p>750000 rows × 14 columns</p>\n",
       "</div>"
      ],
      "text/plain": [
       "            Podcast_Name  Episode_Length_minutes       Genre  \\\n",
       "0        Mystery Matters                   63.84  True Crime   \n",
       "1          Joke Junction                  119.80      Comedy   \n",
       "2         Study Sessions                   73.90   Education   \n",
       "3         Digital Digest                   67.17  Technology   \n",
       "4            Mind & Body                  110.51      Health   \n",
       "...                  ...                     ...         ...   \n",
       "749995      Learning Lab                   75.66   Education   \n",
       "749996   Business Briefs                   75.75    Business   \n",
       "749997  Lifestyle Lounge                   30.98   Lifestyle   \n",
       "749998       Style Guide                  108.98   Lifestyle   \n",
       "749999    Sports Central                   24.10      Sports   \n",
       "\n",
       "        Host_Popularity_percentage Publication_Day Publication_Time  \\\n",
       "0                            74.81        Thursday            Night   \n",
       "1                            66.95        Saturday        Afternoon   \n",
       "2                            69.97         Tuesday          Evening   \n",
       "3                            57.22          Monday          Morning   \n",
       "4                            80.07          Monday        Afternoon   \n",
       "...                            ...             ...              ...   \n",
       "749995                       69.36        Saturday          Morning   \n",
       "749996                       35.21        Saturday            Night   \n",
       "749997                       78.58        Thursday          Morning   \n",
       "749998                       45.39        Thursday          Morning   \n",
       "749999                       22.45        Saturday            Night   \n",
       "\n",
       "        Guest_Popularity_percentage  Number_of_Ads Episode_Sentiment  \\\n",
       "0                             53.58            0.0          Positive   \n",
       "1                             75.95            2.0          Negative   \n",
       "2                              8.97            0.0          Negative   \n",
       "3                             78.70            2.0          Positive   \n",
       "4                             58.68            3.0           Neutral   \n",
       "...                             ...            ...               ...   \n",
       "749995                        53.58            0.0          Negative   \n",
       "749996                        53.58            2.0           Neutral   \n",
       "749997                        84.89            0.0          Negative   \n",
       "749998                        93.27            0.0          Negative   \n",
       "749999                        36.72            0.0           Neutral   \n",
       "\n",
       "        Listening_Time_minutes  Episode_Title_int  Episode_Length_minutes_na  \\\n",
       "0                     31.41998                 98                      87093   \n",
       "1                     88.01241                 26                      87093   \n",
       "2                     44.92531                 16                      87093   \n",
       "3                     46.27824                 45                      87093   \n",
       "4                     75.61031                 86                      87093   \n",
       "...                        ...                ...                        ...   \n",
       "749995                56.87058                 25                      87093   \n",
       "749996                45.46242                 21                      87093   \n",
       "749997                15.26000                 51                      87093   \n",
       "749998               100.72939                 47                      87093   \n",
       "749999                11.94439                 99                      87093   \n",
       "\n",
       "        Guest_Popularity_percentage_na  Number_of_Ads_na  \n",
       "0                               146030                 1  \n",
       "1                               146030                 1  \n",
       "2                               146030                 1  \n",
       "3                               146030                 1  \n",
       "4                               146030                 1  \n",
       "...                                ...               ...  \n",
       "749995                          146030                 1  \n",
       "749996                          146030                 1  \n",
       "749997                          146030                 1  \n",
       "749998                          146030                 1  \n",
       "749999                          146030                 1  \n",
       "\n",
       "[750000 rows x 14 columns]"
      ]
     },
     "execution_count": 15,
     "metadata": {},
     "output_type": "execute_result"
    }
   ],
   "source": [
    "train_data"
   ]
  },
  {
   "cell_type": "markdown",
   "id": "d7cf8a1c",
   "metadata": {},
   "source": [
    "train_data[n] = train_data[n].astype('category')\n",
    "\t•\tThis converts the string column to a category type.\n",
    "\t•\tCategorical types are more memory-efficient and useful for machine learning\n",
    "\n",
    "import pandas as pd\n",
    "\n",
    "df = pd.DataFrame({\n",
    "    'Color': ['Red', 'Blue', 'Red', 'Green', 'Blue']\n",
    "})\n",
    "\n",
    "df['Color'] = df['Color'].astype('category')\n",
    "\n",
    ">>\n",
    "Now:\n",
    "\t•\tPandas sees 3 categories: 'Red', 'Blue', 'Green'\n",
    "\t•\tInternally, it replaces them with codes:\n",
    "'Red' = 0, 'Blue' = 1, 'Green' = 2\n"
   ]
  },
  {
   "cell_type": "code",
   "execution_count": 16,
   "id": "c946c859",
   "metadata": {},
   "outputs": [],
   "source": [
    "for n,c in train_data.items():\n",
    "    if train_data[n].dtype.name == 'object':\n",
    "        train_data[n] = train_data[n].astype('category').cat.as_ordered()\n",
    "\n",
    "for n,c in test_data.items():\n",
    "    if train_data[n].dtype.name == \"category\":\n",
    "        test_data[n] = pd.Categorical(c, categories=train_data[n].cat.categories, ordered=True)\n",
    "        "
   ]
  },
  {
   "cell_type": "markdown",
   "id": "0fe178a8",
   "metadata": {},
   "source": [
    "All the Object 'dtypes' values have been Converted int's and float's"
   ]
  },
  {
   "cell_type": "code",
   "execution_count": 17,
   "id": "56b582ea",
   "metadata": {},
   "outputs": [
    {
     "data": {
      "application/vnd.microsoft.datawrangler.viewer.v0+json": {
       "columns": [
        {
         "name": "index",
         "rawType": "object",
         "type": "string"
        },
        {
         "name": "0",
         "rawType": "object",
         "type": "string"
        }
       ],
       "ref": "cd180481-8e5a-428a-897a-a3d4fd8e0347",
       "rows": [
        [
         "Podcast_Name",
         "category"
        ],
        [
         "Episode_Length_minutes",
         "float64"
        ],
        [
         "Genre",
         "category"
        ],
        [
         "Host_Popularity_percentage",
         "float64"
        ],
        [
         "Publication_Day",
         "category"
        ],
        [
         "Publication_Time",
         "category"
        ],
        [
         "Guest_Popularity_percentage",
         "float64"
        ],
        [
         "Number_of_Ads",
         "float64"
        ],
        [
         "Episode_Sentiment",
         "category"
        ],
        [
         "Listening_Time_minutes",
         "float64"
        ],
        [
         "Episode_Title_int",
         "int64"
        ],
        [
         "Episode_Length_minutes_na",
         "int64"
        ],
        [
         "Guest_Popularity_percentage_na",
         "int64"
        ],
        [
         "Number_of_Ads_na",
         "int64"
        ]
       ],
       "shape": {
        "columns": 1,
        "rows": 14
       }
      },
      "text/plain": [
       "Podcast_Name                      category\n",
       "Episode_Length_minutes             float64\n",
       "Genre                             category\n",
       "Host_Popularity_percentage         float64\n",
       "Publication_Day                   category\n",
       "Publication_Time                  category\n",
       "Guest_Popularity_percentage        float64\n",
       "Number_of_Ads                      float64\n",
       "Episode_Sentiment                 category\n",
       "Listening_Time_minutes             float64\n",
       "Episode_Title_int                    int64\n",
       "Episode_Length_minutes_na            int64\n",
       "Guest_Popularity_percentage_na       int64\n",
       "Number_of_Ads_na                     int64\n",
       "dtype: object"
      ]
     },
     "execution_count": 17,
     "metadata": {},
     "output_type": "execute_result"
    }
   ],
   "source": [
    "train_data.dtypes"
   ]
  },
  {
   "cell_type": "markdown",
   "id": "28fe4144",
   "metadata": {},
   "source": [
    "> This loops through each column name in the DataFrame train_data.\n",
    "> \n",
    "1.\ttrain_data[n].cat.codes\n",
    "\t•\tThis gives the integer codes for the categories.\n",
    "\t•\tExample:\n",
    "If the column has categories [\"Red\", \"Green\", \"Blue\"], their codes might be:\n",
    "Red → 0, Green → 1, Blue → 2\n",
    "\t2.\t+ 1\n",
    "\t•\tAdds 1 to each code.\n",
    "\t•\tSo now: Red → 1, Green → 2, Blue → 3\n",
    "\n",
    "Why add 1? Because:\n",
    "\t•\tMachine learning models often prefer numbers starting from 1 (especially for categorical embeddings or when 0 is used for padding/missing).\n",
    "\t•\tAlso helps avoid confusion with 0 (which is sometimes used to represent “no value”).\n"
   ]
  },
  {
   "cell_type": "markdown",
   "id": "5874c282",
   "metadata": {},
   "source": [
    "    •Converts categorical text into numbers, which are needed for machine learning models.\n",
    "\t•\tKeeps a clean numeric format.\n",
    "\t•\tEnsures 1-based indexing (safer in many cases than starting at 0)."
   ]
  },
  {
   "cell_type": "code",
   "execution_count": 18,
   "id": "80056fe9",
   "metadata": {},
   "outputs": [],
   "source": [
    "for n in train_data.columns:\n",
    "    if train_data[n].dtype.name == \"category\":\n",
    "        train_data[n] = train_data[n].cat.codes + 1\n",
    "\n",
    "for n in test_data.columns:\n",
    "    if test_data[n].dtype.name == \"category\":\n",
    "        test_data[n] = test_data[n].cat.codes + 1"
   ]
  },
  {
   "cell_type": "code",
   "execution_count": null,
   "id": "98396203",
   "metadata": {},
   "outputs": [],
   "source": []
  },
  {
   "cell_type": "code",
   "execution_count": 19,
   "id": "78b03676",
   "metadata": {},
   "outputs": [
    {
     "data": {
      "application/vnd.microsoft.datawrangler.viewer.v0+json": {
       "columns": [
        {
         "name": "index",
         "rawType": "object",
         "type": "string"
        },
        {
         "name": "0",
         "rawType": "object",
         "type": "string"
        }
       ],
       "ref": "582ab04a-d7f2-4091-ac11-5d8e933db74e",
       "rows": [
        [
         "Podcast_Name",
         "int8"
        ],
        [
         "Episode_Length_minutes",
         "float64"
        ],
        [
         "Genre",
         "int8"
        ],
        [
         "Host_Popularity_percentage",
         "float64"
        ],
        [
         "Publication_Day",
         "int8"
        ],
        [
         "Publication_Time",
         "int8"
        ],
        [
         "Guest_Popularity_percentage",
         "float64"
        ],
        [
         "Number_of_Ads",
         "float64"
        ],
        [
         "Episode_Sentiment",
         "int8"
        ],
        [
         "Listening_Time_minutes",
         "float64"
        ],
        [
         "Episode_Title_int",
         "int64"
        ],
        [
         "Episode_Length_minutes_na",
         "int64"
        ],
        [
         "Guest_Popularity_percentage_na",
         "int64"
        ],
        [
         "Number_of_Ads_na",
         "int64"
        ]
       ],
       "shape": {
        "columns": 1,
        "rows": 14
       }
      },
      "text/plain": [
       "Podcast_Name                         int8\n",
       "Episode_Length_minutes            float64\n",
       "Genre                                int8\n",
       "Host_Popularity_percentage        float64\n",
       "Publication_Day                      int8\n",
       "Publication_Time                     int8\n",
       "Guest_Popularity_percentage       float64\n",
       "Number_of_Ads                     float64\n",
       "Episode_Sentiment                    int8\n",
       "Listening_Time_minutes            float64\n",
       "Episode_Title_int                   int64\n",
       "Episode_Length_minutes_na           int64\n",
       "Guest_Popularity_percentage_na      int64\n",
       "Number_of_Ads_na                    int64\n",
       "dtype: object"
      ]
     },
     "execution_count": 19,
     "metadata": {},
     "output_type": "execute_result"
    }
   ],
   "source": [
    "train_data.dtypes"
   ]
  },
  {
   "cell_type": "markdown",
   "id": "d18c1c41",
   "metadata": {},
   "source": [
    "Applying Machine Learning using Random Forest Algorithm"
   ]
  },
  {
   "cell_type": "code",
   "execution_count": 20,
   "id": "72bdda78",
   "metadata": {},
   "outputs": [],
   "source": [
    "from sklearn.metrics import mean_squared_error"
   ]
  },
  {
   "cell_type": "code",
   "execution_count": null,
   "id": "96844c54",
   "metadata": {},
   "outputs": [],
   "source": [
    "from sklearn.metrics import mean_squared_error\n",
    "def print_score(estimator, X_train, y_train, X_val, y_val):\n",
    "    y_pred = estimator.predict(X_train)\n",
    "    train_rmse = np.sqrt(mean_squared_error(y_train, y_pred))\n",
    "    y_pred = estimator.predict(X_val)\n",
    "    val_rmse = np.sqrt(mean_squared_error(y_val, y_pred))\n",
    "    train_r2 = estimator.score(X_train, y_train)\n",
    "    val_r2 = estimator.score(X_val, y_val)\n",
    "    print(train_rmse, val_rmse, train_r2, val_r2)\n"
   ]
  },
  {
   "cell_type": "code",
   "execution_count": 22,
   "id": "6e82d192",
   "metadata": {},
   "outputs": [],
   "source": [
    "from sklearn.model_selection import train_test_split\n",
    "train_, val_ = train_test_split(train_data,test_size=0.1, random_state=42)\n"
   ]
  },
  {
   "cell_type": "code",
   "execution_count": 23,
   "id": "bb209fd2",
   "metadata": {},
   "outputs": [],
   "source": [
    "y_train= train_['Listening_Time_minutes']\n",
    "X_train= train_.drop([\"Listening_Time_minutes\"],axis=1)\n",
    "\n",
    "y_val = val_['Listening_Time_minutes']\n",
    "X_val = val_.drop(['Listening_Time_minutes'], axis=1)\n"
   ]
  },
  {
   "cell_type": "code",
   "execution_count": 24,
   "id": "9e9b5454",
   "metadata": {},
   "outputs": [],
   "source": [
    "from sklearn .ensemble import RandomForestRegressor\n",
    "rf= RandomForestRegressor(n_estimators=100,max_depth=10, max_features=0.5, n_jobs=-1)\n"
   ]
  },
  {
   "cell_type": "code",
   "execution_count": 25,
   "id": "fb2015d2",
   "metadata": {},
   "outputs": [
    {
     "data": {
      "text/html": [
       "<style>#sk-container-id-1 {color: black;}#sk-container-id-1 pre{padding: 0;}#sk-container-id-1 div.sk-toggleable {background-color: white;}#sk-container-id-1 label.sk-toggleable__label {cursor: pointer;display: block;width: 100%;margin-bottom: 0;padding: 0.3em;box-sizing: border-box;text-align: center;}#sk-container-id-1 label.sk-toggleable__label-arrow:before {content: \"▸\";float: left;margin-right: 0.25em;color: #696969;}#sk-container-id-1 label.sk-toggleable__label-arrow:hover:before {color: black;}#sk-container-id-1 div.sk-estimator:hover label.sk-toggleable__label-arrow:before {color: black;}#sk-container-id-1 div.sk-toggleable__content {max-height: 0;max-width: 0;overflow: hidden;text-align: left;background-color: #f0f8ff;}#sk-container-id-1 div.sk-toggleable__content pre {margin: 0.2em;color: black;border-radius: 0.25em;background-color: #f0f8ff;}#sk-container-id-1 input.sk-toggleable__control:checked~div.sk-toggleable__content {max-height: 200px;max-width: 100%;overflow: auto;}#sk-container-id-1 input.sk-toggleable__control:checked~label.sk-toggleable__label-arrow:before {content: \"▾\";}#sk-container-id-1 div.sk-estimator input.sk-toggleable__control:checked~label.sk-toggleable__label {background-color: #d4ebff;}#sk-container-id-1 div.sk-label input.sk-toggleable__control:checked~label.sk-toggleable__label {background-color: #d4ebff;}#sk-container-id-1 input.sk-hidden--visually {border: 0;clip: rect(1px 1px 1px 1px);clip: rect(1px, 1px, 1px, 1px);height: 1px;margin: -1px;overflow: hidden;padding: 0;position: absolute;width: 1px;}#sk-container-id-1 div.sk-estimator {font-family: monospace;background-color: #f0f8ff;border: 1px dotted black;border-radius: 0.25em;box-sizing: border-box;margin-bottom: 0.5em;}#sk-container-id-1 div.sk-estimator:hover {background-color: #d4ebff;}#sk-container-id-1 div.sk-parallel-item::after {content: \"\";width: 100%;border-bottom: 1px solid gray;flex-grow: 1;}#sk-container-id-1 div.sk-label:hover label.sk-toggleable__label {background-color: #d4ebff;}#sk-container-id-1 div.sk-serial::before {content: \"\";position: absolute;border-left: 1px solid gray;box-sizing: border-box;top: 0;bottom: 0;left: 50%;z-index: 0;}#sk-container-id-1 div.sk-serial {display: flex;flex-direction: column;align-items: center;background-color: white;padding-right: 0.2em;padding-left: 0.2em;position: relative;}#sk-container-id-1 div.sk-item {position: relative;z-index: 1;}#sk-container-id-1 div.sk-parallel {display: flex;align-items: stretch;justify-content: center;background-color: white;position: relative;}#sk-container-id-1 div.sk-item::before, #sk-container-id-1 div.sk-parallel-item::before {content: \"\";position: absolute;border-left: 1px solid gray;box-sizing: border-box;top: 0;bottom: 0;left: 50%;z-index: -1;}#sk-container-id-1 div.sk-parallel-item {display: flex;flex-direction: column;z-index: 1;position: relative;background-color: white;}#sk-container-id-1 div.sk-parallel-item:first-child::after {align-self: flex-end;width: 50%;}#sk-container-id-1 div.sk-parallel-item:last-child::after {align-self: flex-start;width: 50%;}#sk-container-id-1 div.sk-parallel-item:only-child::after {width: 0;}#sk-container-id-1 div.sk-dashed-wrapped {border: 1px dashed gray;margin: 0 0.4em 0.5em 0.4em;box-sizing: border-box;padding-bottom: 0.4em;background-color: white;}#sk-container-id-1 div.sk-label label {font-family: monospace;font-weight: bold;display: inline-block;line-height: 1.2em;}#sk-container-id-1 div.sk-label-container {text-align: center;}#sk-container-id-1 div.sk-container {/* jupyter's `normalize.less` sets `[hidden] { display: none; }` but bootstrap.min.css set `[hidden] { display: none !important; }` so we also need the `!important` here to be able to override the default hidden behavior on the sphinx rendered scikit-learn.org. See: https://github.com/scikit-learn/scikit-learn/issues/21755 */display: inline-block !important;position: relative;}#sk-container-id-1 div.sk-text-repr-fallback {display: none;}</style><div id=\"sk-container-id-1\" class=\"sk-top-container\"><div class=\"sk-text-repr-fallback\"><pre>RandomForestRegressor(max_depth=10, max_features=0.5, n_jobs=-1)</pre><b>In a Jupyter environment, please rerun this cell to show the HTML representation or trust the notebook. <br />On GitHub, the HTML representation is unable to render, please try loading this page with nbviewer.org.</b></div><div class=\"sk-container\" hidden><div class=\"sk-item\"><div class=\"sk-estimator sk-toggleable\"><input class=\"sk-toggleable__control sk-hidden--visually\" id=\"sk-estimator-id-1\" type=\"checkbox\" checked><label for=\"sk-estimator-id-1\" class=\"sk-toggleable__label sk-toggleable__label-arrow\">RandomForestRegressor</label><div class=\"sk-toggleable__content\"><pre>RandomForestRegressor(max_depth=10, max_features=0.5, n_jobs=-1)</pre></div></div></div></div></div>"
      ],
      "text/plain": [
       "RandomForestRegressor(max_depth=10, max_features=0.5, n_jobs=-1)"
      ]
     },
     "execution_count": 25,
     "metadata": {},
     "output_type": "execute_result"
    }
   ],
   "source": [
    "rf.fit(X_train,y_train)\n"
   ]
  },
  {
   "cell_type": "markdown",
   "id": "f366634b",
   "metadata": {},
   "source": []
  },
  {
   "cell_type": "code",
   "execution_count": 26,
   "id": "40c8f7e5",
   "metadata": {},
   "outputs": [
    {
     "name": "stdout",
     "output_type": "stream",
     "text": [
      "13.0646190099983 13.140311495472357 0.7682624063475221 0.7653921484540065\n"
     ]
    }
   ],
   "source": [
    "print_score(rf, X_train, y_train, X_val, y_val)\n"
   ]
  },
  {
   "cell_type": "code",
   "execution_count": 27,
   "id": "bd5efb03",
   "metadata": {},
   "outputs": [],
   "source": [
    "y = train_data[\"Listening_Time_minutes\"]\n",
    "X = train_data.drop([\"Listening_Time_minutes\"], axis=1)\n"
   ]
  },
  {
   "cell_type": "code",
   "execution_count": 28,
   "id": "27dcdaec",
   "metadata": {},
   "outputs": [],
   "source": [
    "from sklearn.model_selection import KFold\n"
   ]
  },
  {
   "cell_type": "code",
   "execution_count": 29,
   "id": "75e3513c",
   "metadata": {},
   "outputs": [],
   "source": [
    "clf = RandomForestRegressor(n_estimators=100, max_depth=10, max_features=0.5, n_jobs=-1)"
   ]
  },
  {
   "cell_type": "code",
   "execution_count": 30,
   "id": "e7e80094",
   "metadata": {},
   "outputs": [],
   "source": [
    "from sklearn.ensemble import GradientBoostingRegressor\n",
    "\n",
    "gb= GradientBoostingRegressor(n_estimators=100)\n"
   ]
  },
  {
   "cell_type": "code",
   "execution_count": 31,
   "id": "5c74344b",
   "metadata": {},
   "outputs": [
    {
     "name": "stdout",
     "output_type": "stream",
     "text": [
      "Fold 0\n",
      "(656250, 13) (93750, 13)\n",
      "13.169378428154003 13.124958232199338 0.7645987052691898 0.765500785745826\n",
      "Fold 1\n",
      "(656250, 13) (93750, 13)\n",
      "13.1645896078853 13.152219311830274 0.7647305524739239 0.7648060952799777\n",
      "Fold 2\n",
      "(656250, 13) (93750, 13)\n",
      "13.157349059572148 13.21431914413788 0.7647234387608809 0.7644429500880121\n",
      "Fold 3\n",
      "(656250, 13) (93750, 13)\n",
      "13.162542971462829 13.17364235326361 0.7648840137777752 0.7634742564815999\n",
      "Fold 4\n",
      "(656250, 13) (93750, 13)\n",
      "13.16117131383912 13.190736964220044 0.7647525166352758 0.7641323420827242\n",
      "Fold 5\n",
      "(656250, 13) (93750, 13)\n",
      "13.166477509307866 13.161181463899396 0.7645213344949731 0.7654745445245748\n",
      "Fold 6\n",
      "(656250, 13) (93750, 13)\n",
      "13.168110301428035 13.137846130666757 0.7646583928099218 0.7649453384934122\n",
      "Fold 7\n",
      "(656250, 13) (93750, 13)\n",
      "13.157489556509919 13.220597471339474 0.7649532782493347 0.7625738331777774\n"
     ]
    }
   ],
   "source": [
    "cv = KFold(n_splits=8, random_state=42, shuffle=True)\n",
    "\n",
    "for (train, test), i in zip(cv.split(X, y), range(8)):\n",
    "    print(f\"Fold {i}\")\n",
    "    print(X.iloc[train].shape, X.iloc[test].shape)\n",
    "    gb.fit(X.iloc[train], y.iloc[train])\n",
    "    print_score(gb, X.iloc[train], y.iloc[train], X.iloc[test], y.iloc[test])\n",
    "    "
   ]
  },
  {
   "cell_type": "code",
   "execution_count": 33,
   "id": "8de9b901",
   "metadata": {},
   "outputs": [],
   "source": [
    "test_data['Number_of_Ads_na'] = 0"
   ]
  },
  {
   "cell_type": "code",
   "execution_count": null,
   "id": "7ef606cc",
   "metadata": {},
   "outputs": [],
   "source": [
    "ypred = gb.predict(test_data)"
   ]
  },
  {
   "cell_type": "code",
   "execution_count": 35,
   "id": "b3d531a8",
   "metadata": {},
   "outputs": [
    {
     "data": {
      "text/plain": [
       "(45.43740628813335, 45.45205830218303)"
      ]
     },
     "execution_count": 35,
     "metadata": {},
     "output_type": "execute_result"
    }
   ],
   "source": [
    "train_data['Listening_Time_minutes'].mean(), np.mean(ypred)"
   ]
  },
  {
   "cell_type": "code",
   "execution_count": null,
   "id": "04447c1a",
   "metadata": {},
   "outputs": [],
   "source": [
    "# The mean is approximately the same, so prediction is correct\n"
   ]
  },
  {
   "cell_type": "code",
   "execution_count": 37,
   "id": "fa94cae6",
   "metadata": {},
   "outputs": [],
   "source": [
    "submission_data[\"Listening_Time_minutes\"] = ypred"
   ]
  },
  {
   "cell_type": "code",
   "execution_count": 38,
   "id": "1ace10c9",
   "metadata": {},
   "outputs": [
    {
     "data": {
      "application/vnd.microsoft.datawrangler.viewer.v0+json": {
       "columns": [
        {
         "name": "index",
         "rawType": "int64",
         "type": "integer"
        },
        {
         "name": "id",
         "rawType": "int64",
         "type": "integer"
        },
        {
         "name": "Listening_Time_minutes",
         "rawType": "float64",
         "type": "float"
        }
       ],
       "ref": "6b20f3cd-c1cc-4bd3-9bcf-be4080328379",
       "rows": [
        [
         "0",
         "750000",
         "56.31618464935369"
        ],
        [
         "1",
         "750001",
         "18.05704951783862"
        ],
        [
         "2",
         "750002",
         "50.01160257176028"
        ],
        [
         "3",
         "750003",
         "81.55528733986314"
        ],
        [
         "4",
         "750004",
         "48.96606485420244"
        ],
        [
         "5",
         "750005",
         "22.67481195114551"
        ],
        [
         "6",
         "750006",
         "86.26154948528206"
        ],
        [
         "7",
         "750007",
         "39.53920634493493"
        ],
        [
         "8",
         "750008",
         "68.55570084460307"
        ],
        [
         "9",
         "750009",
         "74.72653661547969"
        ],
        [
         "10",
         "750010",
         "15.780209482011625"
        ],
        [
         "11",
         "750011",
         "23.02185664098363"
        ],
        [
         "12",
         "750012",
         "33.25925951330309"
        ],
        [
         "13",
         "750013",
         "46.27939590660855"
        ],
        [
         "14",
         "750014",
         "47.828989995926854"
        ],
        [
         "15",
         "750015",
         "60.54172720577273"
        ],
        [
         "16",
         "750016",
         "44.639508992173326"
        ],
        [
         "17",
         "750017",
         "33.67271949776798"
        ],
        [
         "18",
         "750018",
         "59.69958501217353"
        ],
        [
         "19",
         "750019",
         "43.0549017745667"
        ],
        [
         "20",
         "750020",
         "37.8128714059342"
        ],
        [
         "21",
         "750021",
         "59.278346866440806"
        ],
        [
         "22",
         "750022",
         "78.10724248281564"
        ],
        [
         "23",
         "750023",
         "30.559467888099128"
        ],
        [
         "24",
         "750024",
         "55.916466341962064"
        ],
        [
         "25",
         "750025",
         "44.731180353083325"
        ],
        [
         "26",
         "750026",
         "11.887309460376112"
        ],
        [
         "27",
         "750027",
         "26.43281261911471"
        ],
        [
         "28",
         "750028",
         "39.06228148342169"
        ],
        [
         "29",
         "750029",
         "40.81406250514405"
        ],
        [
         "30",
         "750030",
         "36.33194960553799"
        ],
        [
         "31",
         "750031",
         "36.247374232983155"
        ],
        [
         "32",
         "750032",
         "12.665329297809983"
        ],
        [
         "33",
         "750033",
         "60.84612558250086"
        ],
        [
         "34",
         "750034",
         "21.77251699865403"
        ],
        [
         "35",
         "750035",
         "20.89443161321086"
        ],
        [
         "36",
         "750036",
         "13.656774981203814"
        ],
        [
         "37",
         "750037",
         "37.3605124533898"
        ],
        [
         "38",
         "750038",
         "24.807428688330027"
        ],
        [
         "39",
         "750039",
         "25.411499209795913"
        ],
        [
         "40",
         "750040",
         "15.479114962990149"
        ],
        [
         "41",
         "750041",
         "84.76696773644447"
        ],
        [
         "42",
         "750042",
         "68.76352271177556"
        ],
        [
         "43",
         "750043",
         "68.96326532196011"
        ],
        [
         "44",
         "750044",
         "52.3479949191542"
        ],
        [
         "45",
         "750045",
         "19.61882870373737"
        ],
        [
         "46",
         "750046",
         "15.224053945604599"
        ],
        [
         "47",
         "750047",
         "50.88579636197767"
        ],
        [
         "48",
         "750048",
         "15.232594240239196"
        ],
        [
         "49",
         "750049",
         "7.350694317267271"
        ]
       ],
       "shape": {
        "columns": 2,
        "rows": 250000
       }
      },
      "text/html": [
       "<div>\n",
       "<style scoped>\n",
       "    .dataframe tbody tr th:only-of-type {\n",
       "        vertical-align: middle;\n",
       "    }\n",
       "\n",
       "    .dataframe tbody tr th {\n",
       "        vertical-align: top;\n",
       "    }\n",
       "\n",
       "    .dataframe thead th {\n",
       "        text-align: right;\n",
       "    }\n",
       "</style>\n",
       "<table border=\"1\" class=\"dataframe\">\n",
       "  <thead>\n",
       "    <tr style=\"text-align: right;\">\n",
       "      <th></th>\n",
       "      <th>id</th>\n",
       "      <th>Listening_Time_minutes</th>\n",
       "    </tr>\n",
       "  </thead>\n",
       "  <tbody>\n",
       "    <tr>\n",
       "      <th>0</th>\n",
       "      <td>750000</td>\n",
       "      <td>56.316185</td>\n",
       "    </tr>\n",
       "    <tr>\n",
       "      <th>1</th>\n",
       "      <td>750001</td>\n",
       "      <td>18.057050</td>\n",
       "    </tr>\n",
       "    <tr>\n",
       "      <th>2</th>\n",
       "      <td>750002</td>\n",
       "      <td>50.011603</td>\n",
       "    </tr>\n",
       "    <tr>\n",
       "      <th>3</th>\n",
       "      <td>750003</td>\n",
       "      <td>81.555287</td>\n",
       "    </tr>\n",
       "    <tr>\n",
       "      <th>4</th>\n",
       "      <td>750004</td>\n",
       "      <td>48.966065</td>\n",
       "    </tr>\n",
       "    <tr>\n",
       "      <th>...</th>\n",
       "      <td>...</td>\n",
       "      <td>...</td>\n",
       "    </tr>\n",
       "    <tr>\n",
       "      <th>249995</th>\n",
       "      <td>999995</td>\n",
       "      <td>11.733420</td>\n",
       "    </tr>\n",
       "    <tr>\n",
       "      <th>249996</th>\n",
       "      <td>999996</td>\n",
       "      <td>57.266666</td>\n",
       "    </tr>\n",
       "    <tr>\n",
       "      <th>249997</th>\n",
       "      <td>999997</td>\n",
       "      <td>6.889086</td>\n",
       "    </tr>\n",
       "    <tr>\n",
       "      <th>249998</th>\n",
       "      <td>999998</td>\n",
       "      <td>74.420362</td>\n",
       "    </tr>\n",
       "    <tr>\n",
       "      <th>249999</th>\n",
       "      <td>999999</td>\n",
       "      <td>57.522385</td>\n",
       "    </tr>\n",
       "  </tbody>\n",
       "</table>\n",
       "<p>250000 rows × 2 columns</p>\n",
       "</div>"
      ],
      "text/plain": [
       "            id  Listening_Time_minutes\n",
       "0       750000               56.316185\n",
       "1       750001               18.057050\n",
       "2       750002               50.011603\n",
       "3       750003               81.555287\n",
       "4       750004               48.966065\n",
       "...        ...                     ...\n",
       "249995  999995               11.733420\n",
       "249996  999996               57.266666\n",
       "249997  999997                6.889086\n",
       "249998  999998               74.420362\n",
       "249999  999999               57.522385\n",
       "\n",
       "[250000 rows x 2 columns]"
      ]
     },
     "execution_count": 38,
     "metadata": {},
     "output_type": "execute_result"
    }
   ],
   "source": [
    "submission_data"
   ]
  },
  {
   "cell_type": "code",
   "execution_count": 39,
   "id": "abf85e57",
   "metadata": {},
   "outputs": [],
   "source": [
    "submission_data.to_csv('Finished.csv',index=False)\n"
   ]
  },
  {
   "cell_type": "code",
   "execution_count": null,
   "id": "0d58bf2b",
   "metadata": {},
   "outputs": [],
   "source": []
  }
 ],
 "metadata": {
  "kernelspec": {
   "display_name": "base",
   "language": "python",
   "name": "python3"
  },
  "language_info": {
   "codemirror_mode": {
    "name": "ipython",
    "version": 3
   },
   "file_extension": ".py",
   "mimetype": "text/x-python",
   "name": "python",
   "nbconvert_exporter": "python",
   "pygments_lexer": "ipython3",
   "version": "3.11.4"
  }
 },
 "nbformat": 4,
 "nbformat_minor": 5
}
